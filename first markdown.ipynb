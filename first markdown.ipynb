{
 "cells": [
  {
   "cell_type": "markdown",
   "metadata": {},
   "source": [
    "# Sarah Liu's Notebook\n",
    " - Toc: False\n",
    " - Layout: Post\n",
    " - Title: My Markdown Post\n",
    " - Description: This is my First Markdown Post\n",
    " - Author: Sarah Liu\n",
    "\n",
    "# First Markdown Post\n",
    "\n",
    "## Font tips\n",
    " - **bold**\n",
    " - *italics*\n",
    " - 'code font text'\n",
    " - lists\n",
    "    1. item 1\n",
    "    2. item 2"
   ]
  }
 ],
 "metadata": {
  "language_info": {
   "name": "python"
  },
  "orig_nbformat": 4
 },
 "nbformat": 4,
 "nbformat_minor": 2
}
