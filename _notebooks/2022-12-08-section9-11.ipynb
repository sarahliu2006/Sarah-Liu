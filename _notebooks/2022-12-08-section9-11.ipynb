{
 "cells": [
  {
   "attachments": {},
   "cell_type": "markdown",
   "metadata": {},
   "source": [
    "# 3.9 and 3.11 Lesson\n",
    "> Interactive lesson covering content from Collegeboard 3.9 and 3.11 made by students for students\n",
    "\n",
    "- layout: default\n",
    "- toc: true\n",
    "- badges: false\n",
    "- comments: true\n",
    "- categories: [markdown,Week15,tri2]\n",
    "- permalink: /lesson9-11\n",
    "- categories: [lesson]"
   ]
  },
  {
   "attachments": {},
   "cell_type": "markdown",
   "metadata": {},
   "source": [
    "# 3.9 Part 1\n",
    "\n",
    "## Lesson 1 | Defining Algorithms \n",
    "\n",
    "What is an **algorithm**?\n",
    "An **algorithm** is a process or set of rules to be followed through CODE. \n",
    "- Algorithms can be written in different ways and still accomplish the same tasks\n",
    "\n",
    "- Algorithms that appear similar can yield different side effects or results.\n",
    "\n",
    "- Some conditional statements can be written as the same as Boolean expressions (VICE VERSA)\n",
    "\n",
    "- Different algorithms can be developed or use to solve the same problem. \n"
   ]
  },
  {
   "cell_type": "code",
   "execution_count": 3,
   "metadata": {},
   "outputs": [
    {
     "name": "stdout",
     "output_type": "stream",
     "text": [
      "It's too hot outside!\n"
     ]
    }
   ],
   "source": [
    "temp = int(input(\"Select a temperature from 0 to 99 degrees F\"))\n",
    "if (temp >= 90):\n",
    "    print(\"It's too hot outside!\")\n",
    "else:\n",
    "    if (temp >= 65):\n",
    "        print(\"Sure I will play outside!\")\n",
    "    else: \n",
    "        print(\"It is too cold outside!\")\n",
    "# Input 54 and then 95, what do you notice?"
   ]
  },
  {
   "cell_type": "code",
   "execution_count": 4,
   "metadata": {},
   "outputs": [
    {
     "name": "stdout",
     "output_type": "stream",
     "text": [
      "It's too hot outside!\n",
      "Sure I will play outside!\n"
     ]
    }
   ],
   "source": [
    "temp = int(input(\"Select a temperature from 0 to 99 degrees F\"))\n",
    "if (temp >= 90):\n",
    "    print(\"It's too hot outside!\")\n",
    "if (temp >= 65):\n",
    "    print(\"Sure I will play outside!\")\n",
    "if (temp < 65):\n",
    "    print(\"It is too cold outside!\")\n",
    "    # Input 54 and then Input 95, what do you notice?"
   ]
  },
  {
   "attachments": {},
   "cell_type": "markdown",
   "metadata": {},
   "source": [
    "## Conditionals vs. Booleans\n",
    "\n",
    "The condition and instructions are what differ, that's where the magic happens. The condition is a boolean expression when an expression outputs either true or false. Boolean values are another type of data type in programming languages, and they can only ever hold true or false. "
   ]
  },
  {
   "cell_type": "code",
   "execution_count": 5,
   "metadata": {},
   "outputs": [
    {
     "name": "stdout",
     "output_type": "stream",
     "text": [
      "True\n"
     ]
    }
   ],
   "source": [
    "IsHoliday = False\n",
    "IsWeekday = True\n",
    "if IsHoliday:\n",
    "    driveWork = True\n",
    "else: \n",
    "    if IsWeekday: \n",
    "        driveWork = True\n",
    "    else: \n",
    "        driveWork = False\n",
    "print(driveWork)"
   ]
  },
  {
   "cell_type": "code",
   "execution_count": 6,
   "metadata": {},
   "outputs": [
    {
     "name": "stdout",
     "output_type": "stream",
     "text": [
      "25\n"
     ]
    }
   ],
   "source": [
    "sum = 1\n",
    "counter = 3\n",
    "#iteration\n",
    "var = 0 \n",
    "while (var < 4): #while the var is <= 4, it executes those commands, once it exceeds it hits the else command\n",
    "    sum = sum + counter\n",
    "    counter = counter + 2\n",
    "    var = var + 1\n",
    "    # now go through the whole thing 4 times, this is an iteration, a vital part of algorithms.\n",
    "else:\n",
    "    print(sum)\n",
    "\n"
   ]
  },
  {
   "cell_type": "code",
   "execution_count": 7,
   "metadata": {},
   "outputs": [
    {
     "name": "stdout",
     "output_type": "stream",
     "text": [
      "25\n"
     ]
    }
   ],
   "source": [
    "sum = 0\n",
    "counter = 9\n",
    "#iteration\n",
    "while (counter >= 1): \n",
    "    sum = sum + counter\n",
    "    counter = counter - 2\n",
    "print(sum)"
   ]
  },
  {
   "cell_type": "markdown",
   "metadata": {},
   "source": [
    "# 3.9 Part 2\n",
    "## Flowcharts\n",
    "- Flowcharts can help you visualize the functionality of an algorithm\n",
    "\n",
    "- They are a good way to double check whether or not your algorithm is achieving its purpose\n",
    "\n",
    "\n",
    "### How To Set Up A Flowchart\n",
    "1. label the start point\n",
    "\n",
    "2. Define any and all variables you may need\n",
    "\n",
    "3. Consider the first question you want the algorithm to ask\n",
    "\n",
    "4. Write what you want the algorithm to do if the answer to that question is yes (or true)\n",
    "\n",
    "5. Write what you want the algorithm to do if the answer to that question is no (or false)\n",
    "\n",
    "    * Steps 3-5 are the steps to creating code that uses a process called selection (you can convert the question from step 3 to a conditional if-statement in code)\n",
    "    <br>\n",
    "    <br>\n",
    "6. Write out all necessary steps for the algorithm to function properly\n",
    "\n",
    "7. You may want your algorithm to iterate some steps until a condition is met\n",
    "\n",
    "    * You can write the steps that need to be repeated, then draw an arrow from the last step to a step above that contains a conditional statement\n",
    "    <br>\n",
    "    <br>\n",
    "8. determine a way to reach the end goal\n",
    "\n",
    "\n",
    "## Selection vs. Iteration\n",
    "\n",
    "- Selection:\n",
    "\n",
    "    - A process used in algorithms where a conditional if-statement leads to one of two outcomes\n",
    "        \n",
    "        - Outcome 1: if the conditional statement is true, something will happen\n",
    "        \n",
    "        - Outcome 2: if the conditional statement is false, something else will happen\n",
    "\n",
    "        - Ex: see [Example A](https://azeem-khan1.github.io/TripleAJ/Lesson#Example-A)\n",
    "\n",
    "- Iteration\n",
    "\n",
    "    - A process used in algorithms that allows certain things to happen until a condition is satisfied\n",
    "\n",
    "        - Once the condition is satisfied, then an outcome is produced\n",
    "\n",
    "        - This can take the form of a for-loop, while-loop, and/or if-statement\n",
    "\n",
    "\n",
    "## Example A\n",
    "- Consider this situation:\n",
    "\n",
    "    - You are shopping for your favorite food at your favorite supermarket\n",
    "\n",
    "    - You see that there is a sale on wheat products for 35% off\n",
    "    \n",
    "    - There is another sale on produce for 20% off\n",
    "    \n",
    "    - These sales are mutually exclusive\n",
    "    \n",
    "    - Tax on all items is 8%\n",
    "\n",
    "- Your TASK:\n",
    "\n",
    "    - Create a flowchart for an algorithm that can be used to calculate the cost of your favorite item\n",
    "\n",
    "\n",
    "## Example A Possible Solution (using Selection)\n",
    "\n",
    "\n",
    "![Flowchart for Example A](../images/3-9Lesson2ExampleAFlowchart.png)\n",
    "\n"
   ]
  },
  {
   "cell_type": "markdown",
   "metadata": {},
   "source": [
    "# 3.9 Part 3\n",
    "\n",
    " - For Algorithms\n",
    "    - How to combine and/or modify an existing algorithm.\n",
    "\n",
    "- Benefits of combining algorithms\n",
    "    - can reduce development time, testing time, and simplify the identification of errors.\n",
    "\n",
    "## Example in Class\n",
    "\n",
    "![Collatz Conjecture](../images/CollatzConjecture.jpeg)\n",
    "\n",
    "## Rules\n",
    "\n",
    "- step/rule 1: start with any positive integer\n",
    "- step/rule 2: if the preceding term is even; divide by 2\n",
    "- step/rule 3: if the preceding term is odd; multiply by 3 and add 1\n",
    "- step/rule 4: repeat steps until you arrive at 1\n",
    "- fact: the sequence should ALWAYS end up at 1 if repeated.\n",
    "\n",
    "## Algorithm to Start (Determining Whether a Number is Even or Odd)"
   ]
  },
  {
   "cell_type": "code",
   "execution_count": 1,
   "metadata": {},
   "outputs": [
    {
     "name": "stdout",
     "output_type": "stream",
     "text": [
      "choose value for x\n",
      "the number is even\n"
     ]
    }
   ],
   "source": [
    "print(\"choose value for x\")\n",
    "\n",
    "varx = int(input(\"Enter any positive Integer\"))\n",
    "\n",
    "new = 0\n",
    "while (new != 1): \n",
    "    if (varx %2 == 0):\n",
    "        new == varx / 2\n",
    "        print(\"your new number is: \" + str(new))\n",
    "\n",
    "    else:\n",
    "        new == varx * 3 + 1 \n",
    "        print(\"Your new number is \" + str(new))"
   ]
  },
  {
   "cell_type": "markdown",
   "metadata": {},
   "source": [
    "## How can we modify this code to match our goal\n",
    "\n",
    "- Hint: uses arithmetic operations\n",
    "- Hint: look at the steps of the equation and try and modify it to fit them\n",
    "- Must display all numbers used in it\n",
    "\n",
    "### Solution\n",
    "\n",
    "#### Step 1\n",
    "- steps/rules 2 & 3."
   ]
  },
  {
   "cell_type": "code",
   "execution_count": 9,
   "metadata": {},
   "outputs": [
    {
     "name": "stdout",
     "output_type": "stream",
     "text": [
      "choose value for x\n",
      "8\n"
     ]
    }
   ],
   "source": [
    "print(\"choose value for x\")\n",
    "\n",
    "varx=int(input(\"Enter any positive Integer\"))\n",
    "\n",
    "if (varx %2 == 0):\n",
    "     varx == varx/2       # Change print to the function\n",
    "\n",
    "else:\n",
    "    varx == varx * 3 + 1      # Change print to the function\n",
    "\n",
    "print(varx)\n"
   ]
  },
  {
   "cell_type": "markdown",
   "metadata": {},
   "source": [
    "#### Step 2\n",
    "- step/rule 4; here we add the loop"
   ]
  },
  {
   "cell_type": "code",
   "execution_count": 10,
   "metadata": {},
   "outputs": [
    {
     "name": "stdout",
     "output_type": "stream",
     "text": [
      "choose value for x\n",
      "1.0\n"
     ]
    }
   ],
   "source": [
    "print(\"choose value for x\")\n",
    "\n",
    "varx=int(input(\"Enter any positive Integer\"))\n",
    "\n",
    "while varx != 1:\n",
    "\n",
    "    if (varx %2 == 0):\n",
    "        varx = varx/2       # Change print to the function\n",
    "\n",
    "    else:\n",
    "        varx = varx * 3 + 1      # Change print to the function\n",
    "\n",
    "print(varx)"
   ]
  },
  {
   "cell_type": "markdown",
   "metadata": {},
   "source": [
    "#### Step 3\n",
    "- Display all values throughout the algorithm"
   ]
  },
  {
   "cell_type": "code",
   "execution_count": 2,
   "metadata": {},
   "outputs": [
    {
     "name": "stdout",
     "output_type": "stream",
     "text": [
      "choose value for x\n",
      "2\n",
      "1.0\n",
      "1.0\n"
     ]
    }
   ],
   "source": [
    "print(\"choose value for x\")\n",
    "\n",
    "varx=int(input(\"Enter any positive Integer\"))\n",
    "\n",
    "print(varx)\n",
    "while varx != 1:\n",
    "\n",
    "    if (varx %2 == 0):\n",
    "        varx = varx/2       \n",
    "        print(varx)               # add Display\n",
    "    else:\n",
    "        varx = varx * 3 + 1      \n",
    "        print(varx)               # add Display\n",
    "print(varx)                       # Final # Should be 1 every time"
   ]
  },
  {
   "cell_type": "markdown",
   "metadata": {},
   "source": [
    "## Takeaways\n",
    "\n",
    "- You can use code you've previously wrote in order to make a project easier.\n",
    "- Breaking algorithms down into steps can make things easier and more simple.\n",
    "\n",
    "## Hacks\n",
    "\n",
    "- create another algorithm using a famous mathematical algorithm such as the \"collatz conjecture.\" and explain your steps in a post on a blog."
   ]
  },
  {
   "cell_type": "markdown",
   "metadata": {},
   "source": [
    "# 3.11 Binary Search\n",
    "\n",
    "Goals/Objectives:\n",
    "- detirmine number of iterations required to find vlue in data set.\n",
    "- explain requirements for binary search\n",
    "\n",
    "\n",
    "What is Binary Search?\n",
    "- Binary search is a search algorithm that finds the position of a target value within a sorted array. Binary search compares the target value to the middle element of the array. \n",
    "- An algorithm for iterating to find a value inside a data set\n",
    "\n",
    "About Binary Search:\n",
    "- Binary Search Algorithm starts in the middle of a data set of numbers and eliminates half the data. This process reapeats until the desired value is found or until all elements have been eliminated.\n",
    "- In order to use binary search effectivly and properly, data must be stored in order\n",
    "- COLLEGE BOARD INDEX STARTS AT 1 NOT 0"
   ]
  },
  {
   "cell_type": "markdown",
   "metadata": {},
   "source": [
    "Think about how you would you would try to find a certain number in this set.\n",
    "\n",
    "(IMAGE HERE)\n",
    "\n",
    "\n",
    "\n",
    "One way would be to line up the numbers and count them individually untill you find the desired value.\n",
    "\n",
    "When working with large data sets with lots of numbers, methods like these wont work\n",
    "- Instead, a Binary Search would be more effective.\n",
    "\n",
    "(IMAGE HERE)\n",
    "\n",
    "\n",
    "Here we can see the numbers are set in an increasing order. Setting numbers in an increasing or decreasing is needed for a binary search\n",
    "- Binary search is started with the middle number first\n",
    "    - Middle number is found by taking the higest index number plus the lowest and divided by two\n",
    "- Binary Search can be represented using a tree as shown below\n",
    "\n",
    "(IMAGE HERE)\n",
    "\n",
    "<br> <br>\n",
    "\n",
    "Heres an easy way to put it:\n",
    "- binary search fidns the desired element by continuously chopping the search area in half\n",
    "- say the element you are looking for is 'f'\n",
    "\n",
    "[a b c d e f g h]\n",
    "\n",
    " - We would start in the middle at element 'd'\n",
    " - becuase our target is greater than d we will eliminate everything left of 'd' including 'd' (chopping it in half)\n",
    "\n",
    " [e f g h] is what now remains\n",
    "  - again we would 'chop in half'\n",
    "  - say we iterate through 'g' and 'h', our desired element is still not found so we would eliminate 'g; and 'h' and continue the process\n",
    "\n",
    "  [e f]\n",
    "  - now we are down to 2 elements\n",
    "  - 'chopping in half' will give us our desired element\n",
    "  \n",
    "  [f]"
   ]
  },
  {
   "cell_type": "code",
   "execution_count": null,
   "metadata": {},
   "outputs": [
    {
     "name": "stdout",
     "output_type": "stream",
     "text": [
      "Element is present at index 1\n"
     ]
    }
   ],
   "source": [
    "# Binary Search in python\n",
    "\n",
    "def BinarySearch(array, x, low, high):\n",
    "\n",
    "    # Repeat until the pointers low and high meet each other \n",
    "    while low <= high:\n",
    "\n",
    "        mid = low + (high - low)//2 # find the middle (taking the higest index number plus the lowest and divided by two)\n",
    "\n",
    "        if array[mid] == x: # if desired number is the middle is found return desired number (middle number) \n",
    "            return mid\n",
    "\n",
    "        elif array[mid] < x: \n",
    "            low = mid + 1\n",
    "\n",
    "        else:\n",
    "            high = mid - 1\n",
    "\n",
    "    return -1\n",
    "\n",
    "\n",
    "array = [3, 4, 5, 6, 7, 8, 9]\n",
    "x = 4\n",
    "\n",
    "result = BinarySearch(array, x, 0, len(array)-1)\n",
    "\n",
    "if result != -1:\n",
    "    print(\"Element is present at index \" + str(result))\n",
    "else:\n",
    "    print(\"Not found\")"
   ]
  },
  {
   "cell_type": "markdown",
   "metadata": {},
   "source": [
    "\n",
    "- We have created a function called binary_search() function which takes two arguments - a list to be sorted and a number to be searched.\n",
    "\n",
    "- We have declared two variables to store the lowest and highest values in the list. The lowest is assigned initial value to 0, the highest to\n",
    " len(list1)  1 and mid as 0.\n",
    "\n",
    "- Next, we have declared the while loop with the condition that the lowest is equal and smaller than the highest. The while loop will iterate if the number has not been found yet.\n",
    "\n",
    "- In the while loop, we find the mid value and compare the index value to the number we are searching for.\n",
    "\n",
    "- If the value of the mid-index is smaller than n, we increase the mid value by 1 and assign it to the low. The search moves to the left side.\n",
    "\n",
    "- Otherwise, if the value of mid index is larger than n, we decrease the mid value by 1 and assign it to the high. The search moves to the right side.\n",
    "\n",
    "- If the n is equal to the mid value then return mid.\n",
    "\n",
    "- This will happen until the low is equal and smaller than the high.\n",
    "\n",
    "- If we reach at the end of the function, then the element is not present in the list. We return -1 to the calling function.\n",
    "\n",
    "<br> <br>\n",
    "\n",
    "## Hacks\n",
    "\n",
    "Using my example above and steps below, create your own iteration using binary search\n",
    "\n",
    "\n",
    "Steps\n",
    "\n",
    "- Compare x with the middle element.\n",
    "- If x matches with the middle element, we return the mid index.\n",
    "- Else if x is greater than the mid element, then x can only lie in the right (greater) half subarray after the mid element. Then we apply the algorithm again for the right half.\n",
    "- Else if x is smaller, the target x must lie in the left (lower) half. So we apply the algorithm for the left half.\n"
   ]
  },
  {
   "cell_type": "code",
   "execution_count": 1,
   "metadata": {},
   "outputs": [
    {
     "name": "stdout",
     "output_type": "stream",
     "text": [
      "Found at position :  6\n"
     ]
    }
   ],
   "source": [
    "def binary_search(arr, x):\n",
    "    low = 0\n",
    "    high = len(arr)-1\n",
    "    mid = 0\n",
    "\n",
    "    if low<=high:\n",
    "        mid = (low + high) // 2 #integer part\n",
    "        \n",
    "        if x == arr[mid]:\n",
    "            return mid\n",
    "        elif x < arr[mid]:\n",
    "            high = mid - 1\n",
    "            return high\n",
    "        else:\n",
    "            low = mid + 1\n",
    "            return low\n",
    "    else:\n",
    "        return -1\n",
    "\n",
    "arr = [1,2,3,4,5,6,7,8,9,10,11]\n",
    "x = 11\n",
    "\n",
    "result = binary_search(arr, x)\n",
    "\n",
    "if result != -1:\n",
    "    print(\"Found at position : \",str(result))\n",
    "else:\n",
    "    print(\"Not in the array!\")"
   ]
  },
  {
   "attachments": {},
   "cell_type": "markdown",
   "metadata": {},
   "source": [
    "# Homework Assignment (DUE FRIDAY 12/09 BY 5:00 PM)\n",
    "\n",
    "- Consider this situation:\n",
    "\n",
    "    - You're playing a short game using a random number generator from 1 to 20\n",
    "\n",
    "        - On each turn, a player will generate 3 random numbers\n",
    "\n",
    "        - They get to keep the highest number that they generate as their score\n",
    "\n",
    "\n",
    "### Your TASK:\n",
    "    \n",
    "1. Create a flowchart that can be used to write an algorithm that calculates a player's score after a turn\n",
    "\n",
    "    - NOTE: Don't forget the [syntax for Flowcharts](https://wcs.smartdraw.com/flowchart/img/basic-symbols-table.jpg?bn=15100111857)! (each shape represents an action)\n",
    "\n",
    "    - Try to implement selection and/or iteration in your algorithm\n",
    "\n",
    "    - Please do this using Google Drawing. It can be found in your Google Drive if you click `New > More > Google Drawings`\n",
    "\n",
    "\n",
    "2. Write the working algorithm in Python\n",
    "\n",
    "    - Make sure to initialize / define any variables you may need\n",
    "    \n",
    "    - Add comments to your code!\n",
    "\n"
   ]
  },
  {
   "cell_type": "code",
   "execution_count": 2,
   "metadata": {},
   "outputs": [
    {
     "name": "stdout",
     "output_type": "stream",
     "text": [
      "You rolled the numbers ['13', '7', '2']. Your score is: 13\n"
     ]
    }
   ],
   "source": [
    "import random\n",
    "Num = []\n",
    "Score = 0\n",
    "\n",
    "num1, num2, num3 = random.sample(range(1, 20), 3) #generates a random number and equates it to num1, num2, and num3\n",
    "Num.extend([str(num1), str(num2), str(num3)]) #adds num1, num2, and num3 to the list ‘Num’\n",
    "\n",
    "for i in Num: #iterates through each number in the list Num\n",
    "    newScore = (max(map(int, Num))) #map makes the list a list of integers. uses max syntax to find the largest number in the list Num. \n",
    "\n",
    "print(\"You rolled the numbers \" + str(Num) + \". Your score is: \" + str(newScore)) ##prints new score"
   ]
  }
 ],
 "metadata": {
  "kernelspec": {
   "display_name": "Python 3.8.10 64-bit",
   "language": "python",
   "name": "python3"
  },
  "language_info": {
   "codemirror_mode": {
    "name": "ipython",
    "version": 3
   },
   "file_extension": ".py",
   "mimetype": "text/x-python",
   "name": "python",
   "nbconvert_exporter": "python",
   "pygments_lexer": "ipython3",
   "version": "3.8.10"
  },
  "orig_nbformat": 4,
  "vscode": {
   "interpreter": {
    "hash": "916dbcbb3f70747c44a77c7bcd40155683ae19c65e1c03b4aa3499c5328201f1"
   }
  }
 },
 "nbformat": 4,
 "nbformat_minor": 2
}
