{
 "cells": [
  {
   "cell_type": "markdown",
   "metadata": {},
   "source": [
    "# Math Expression and String Notes\n",
    "- title: Math Expression and String Notes\n",
    "- toc: true\n",
    "- permalink: /mathexpressionstring\n",
    "- categories: [markdown,Week14,tri2]\n",
    "- tags: true\n",
    "- week: 14"
   ]
  },
  {
   "cell_type": "markdown",
   "metadata": {},
   "source": [
    "## Algorithm\n",
    "\n",
    "An Algorithm is a set of instructions that can accomplish a specific test\n",
    "\n",
    "Types of Algorithms\n",
    "1. Sequencing: Algorithms do tasks in the order of specification.\n",
    "2. Selection: Helps choose two different outcomes based off a decision.\n",
    "3. Iteration: If a condition is true, then the code can repeat.\n",
    "\n",
    "Ways to represent Algorithms\n",
    "1. Flowcharts: Shapes and arrows represent steps of an algorithms\n",
    "2. Pseudocode: Human language + code language "
   ]
  },
  {
   "cell_type": "markdown",
   "metadata": {},
   "source": [
    "Addition"
   ]
  },
  {
   "cell_type": "code",
   "execution_count": 1,
   "metadata": {},
   "outputs": [],
   "source": [
    "num1 = 2 + 1"
   ]
  },
  {
   "cell_type": "markdown",
   "metadata": {},
   "source": [
    "Subtraction"
   ]
  },
  {
   "cell_type": "code",
   "execution_count": 2,
   "metadata": {},
   "outputs": [],
   "source": [
    "num1 = 2 - 1"
   ]
  },
  {
   "cell_type": "markdown",
   "metadata": {},
   "source": [
    "Multiplication"
   ]
  },
  {
   "cell_type": "code",
   "execution_count": 3,
   "metadata": {},
   "outputs": [],
   "source": [
    "num1 = 2 * 1"
   ]
  },
  {
   "cell_type": "markdown",
   "metadata": {},
   "source": [
    "Division"
   ]
  },
  {
   "cell_type": "code",
   "execution_count": 5,
   "metadata": {},
   "outputs": [],
   "source": [
    "num1 = 2 / 1"
   ]
  },
  {
   "cell_type": "markdown",
   "metadata": {},
   "source": [
    "Remainder"
   ]
  },
  {
   "cell_type": "code",
   "execution_count": 4,
   "metadata": {},
   "outputs": [],
   "source": [
    "num1 = 5 % 2"
   ]
  },
  {
   "cell_type": "markdown",
   "metadata": {},
   "source": [
    "Other examples such as numbers or variables"
   ]
  },
  {
   "cell_type": "code",
   "execution_count": null,
   "metadata": {},
   "outputs": [],
   "source": [
    "num1 = 10\n",
    "num2 = num1 - 25\n",
    "num3 = 100 * num1\n",
    "num4 = num1 / num2\n",
    "num5 = 9 % num4"
   ]
  },
  {
   "cell_type": "markdown",
   "metadata": {},
   "source": [
    "## Order of Operations\n",
    "\n",
    "Arithmetic operations in programming are performed in the same order as operations in mathematics:\n",
    "\n",
    "- Operations in parentheses should be done first.\n",
    "- Division and multiplication should be done before addition and subtraction.\n",
    "- Modulus works similar to multiplication and division."
   ]
  },
  {
   "cell_type": "code",
   "execution_count": 6,
   "metadata": {},
   "outputs": [
    {
     "name": "stdout",
     "output_type": "stream",
     "text": [
      "10.0\n"
     ]
    }
   ],
   "source": [
    "num1 = 9 % 2 * ( 8 - 2 ) + 8 / ( 6 - 4 )\n",
    "print(num1)"
   ]
  },
  {
   "cell_type": "markdown",
   "metadata": {},
   "source": [
    "## Variables \n",
    "\n",
    "Different Ways Values are Stored in Variables\n",
    "\n",
    "- Numerical value stored in a variable\n",
    "- Value of another variable stored in a variable\n",
    "- Result of an operation stored in a variable\n",
    "- Result of a procedure call stored in a variable"
   ]
  },
  {
   "cell_type": "code",
   "execution_count": 1,
   "metadata": {},
   "outputs": [
    {
     "ename": "NameError",
     "evalue": "name 'newScore' is not defined",
     "output_type": "error",
     "traceback": [
      "\u001b[0;31m---------------------------------------------------------------------------\u001b[0m",
      "\u001b[0;31mNameError\u001b[0m                                 Traceback (most recent call last)",
      "\u001b[1;32m/home/sarahl/vscode/Sarah-Liu/_notebooks/2022-11-29-mathexpressionandstring.ipynb Cell 18\u001b[0m in \u001b[0;36m<cell line: 2>\u001b[0;34m()\u001b[0m\n\u001b[1;32m      <a href='vscode-notebook-cell://wsl%2Bubuntu/home/sarahl/vscode/Sarah-Liu/_notebooks/2022-11-29-mathexpressionandstring.ipynb#X23sdnNjb2RlLXJlbW90ZQ%3D%3D?line=0'>1</a>\u001b[0m score \u001b[39m=\u001b[39m \u001b[39m0\u001b[39m   \u001b[39m# 1\u001b[39;00m\n\u001b[0;32m----> <a href='vscode-notebook-cell://wsl%2Bubuntu/home/sarahl/vscode/Sarah-Liu/_notebooks/2022-11-29-mathexpressionandstring.ipynb#X23sdnNjb2RlLXJlbW90ZQ%3D%3D?line=1'>2</a>\u001b[0m score \u001b[39m=\u001b[39m newScore    \u001b[39m# 2\u001b[39;00m\n\u001b[1;32m      <a href='vscode-notebook-cell://wsl%2Bubuntu/home/sarahl/vscode/Sarah-Liu/_notebooks/2022-11-29-mathexpressionandstring.ipynb#X23sdnNjb2RlLXJlbW90ZQ%3D%3D?line=2'>3</a>\u001b[0m score \u001b[39m=\u001b[39m newScore \u001b[39m+\u001b[39m \u001b[39m2\u001b[39m    \u001b[39m# 3\u001b[39;00m\n\u001b[1;32m      <a href='vscode-notebook-cell://wsl%2Bubuntu/home/sarahl/vscode/Sarah-Liu/_notebooks/2022-11-29-mathexpressionandstring.ipynb#X23sdnNjb2RlLXJlbW90ZQ%3D%3D?line=3'>4</a>\u001b[0m avgScore \u001b[39m=\u001b[39m allscores(\u001b[39m20\u001b[39m, \u001b[39m60\u001b[39m, \u001b[39m80\u001b[39m)\n",
      "\u001b[0;31mNameError\u001b[0m: name 'newScore' is not defined"
     ]
    }
   ],
   "source": [
    "score = 0   # 1\n",
    "score = newScore    # 2\n",
    "score = newScore + 2    # 3\n",
    "avgScore = allscores(20, 60, 80)    # 4"
   ]
  },
  {
   "cell_type": "markdown",
   "metadata": {},
   "source": [
    "Changing the order of the steps changes the overall outcome, since every time the value assigned to a variable is changed, it overrides the last value which was assigned to the same variable. That is why it is important to track the value of variables, especially in code where the value is constantly changing."
   ]
  },
  {
   "cell_type": "code",
   "execution_count": 2,
   "metadata": {},
   "outputs": [],
   "source": [
    "num1 = 2\n",
    "num2 = 4\n",
    "num3 = 6\n",
    "num1 = num2 + num3      # num1 is now 4 + 6, which is 10\n",
    "num2 = num1 + num3      # num2 is now (the new num1) 10 + 6, which is 16\n",
    "# output: num1 = 10, num2 = 16, num3 = 6"
   ]
  },
  {
   "cell_type": "markdown",
   "metadata": {},
   "source": [
    "vs"
   ]
  },
  {
   "cell_type": "code",
   "execution_count": 3,
   "metadata": {},
   "outputs": [],
   "source": [
    "num1 = 2\n",
    "num2 = 4\n",
    "num3 = 6\n",
    "num2 = num1 + num3  #num2 is now 8\n",
    "num1 = num2 + num3  # num1 is now 14\n",
    "# output: num1 = 14, num2 = 8, num3 = 6"
   ]
  },
  {
   "cell_type": "markdown",
   "metadata": {},
   "source": [
    "Tracking variables is a common question found on AP exams and is an important thing to keep in mind when writing any code. If the value of your variables changes a lot, not accounting for these changes can result in an unwanted outcome."
   ]
  },
  {
   "cell_type": "code",
   "execution_count": 4,
   "metadata": {},
   "outputs": [
    {
     "name": "stdout",
     "output_type": "stream",
     "text": [
      "9\n",
      "7\n",
      "2\n"
     ]
    }
   ],
   "source": [
    "var1 = 9\n",
    "var2 = 7\n",
    "var3 = 2\n",
    "\n",
    "#var = var1 + 5\n",
    "#var2 = var1 - var3\n",
    "#var1 = var2\n",
    "#var3 = (var1 + var2) / 2\n",
    "#var2 = 6\n",
    "\n",
    "print(var1)\n",
    "print(var2)\n",
    "print(var3)"
   ]
  },
  {
   "cell_type": "markdown",
   "metadata": {},
   "source": [
    "## HACKS!"
   ]
  },
  {
   "cell_type": "code",
   "execution_count": 5,
   "metadata": {},
   "outputs": [],
   "source": [
    "Num1 = 50\n",
    "Num2 = Num1 % 9 + 15\n",
    "Num3 = Num2 / Num1 + ( Num2 * 2 )\n",
    "Num4 = Num3 + Num1 / 5 - 10\n",
    "Result = Num4 - Num2"
   ]
  },
  {
   "cell_type": "markdown",
   "metadata": {},
   "source": [
    "(Num3 + Num1 / 5-10) - (Num1 % 9 + 15)\n",
    "([(Num2 / Num1 + ( Num2 *2)) + 50] / 5 - 10) - (50 % 9 + 15)\n"
   ]
  },
  {
   "cell_type": "code",
   "execution_count": 6,
   "metadata": {},
   "outputs": [],
   "source": [
    "Num1 = 10\n",
    "Num2 = Num1 % 3 * 4\n",
    "Num1 = Num2\n",
    "Num3 = Num1 * 3\n",
    "Result = Num3 % 2"
   ]
  },
  {
   "cell_type": "markdown",
   "metadata": {},
   "source": [
    "(Num1 * 3) % 2\n",
    "(10 * 3) % 2\n",
    "30 % 2\n",
    "Answer: 0"
   ]
  },
  {
   "cell_type": "code",
   "execution_count": 7,
   "metadata": {},
   "outputs": [
    {
     "name": "stdout",
     "output_type": "stream",
     "text": [
      "17\n"
     ]
    }
   ],
   "source": [
    "valueA = 4\n",
    "valueB = 90\n",
    "valueC = 17\n",
    "valueB = valueC - valueA\n",
    "valueA = valueA * 10\n",
    "if valueB > 10:\n",
    "    print(valueC)"
   ]
  },
  {
   "cell_type": "markdown",
   "metadata": {},
   "source": [
    "valueA = 4 *10 = 40\n",
    "valueB = 17 - 4 = 13\n",
    "valueC = 17\n",
    "Because valueB is 13, which is greater than 10, the final answer would be 17."
   ]
  },
  {
   "cell_type": "code",
   "execution_count": 8,
   "metadata": {},
   "outputs": [
    {
     "name": "stdout",
     "output_type": "stream",
     "text": [
      "straightbrownshort\n"
     ]
    }
   ],
   "source": [
    "type = \"curly\"\n",
    "color = \"brown\"\n",
    "length = \"short\"\n",
    "type = \"straight\"\n",
    "hair = type + color + length\n",
    "print(hair)"
   ]
  },
  {
   "cell_type": "markdown",
   "metadata": {},
   "source": []
  }
 ],
 "metadata": {
  "kernelspec": {
   "display_name": "Python 3.8.10 64-bit",
   "language": "python",
   "name": "python3"
  },
  "language_info": {
   "codemirror_mode": {
    "name": "ipython",
    "version": 3
   },
   "file_extension": ".py",
   "mimetype": "text/x-python",
   "name": "python",
   "nbconvert_exporter": "python",
   "pygments_lexer": "ipython3",
   "version": "3.8.10"
  },
  "orig_nbformat": 4,
  "vscode": {
   "interpreter": {
    "hash": "916dbcbb3f70747c44a77c7bcd40155683ae19c65e1c03b4aa3499c5328201f1"
   }
  }
 },
 "nbformat": 4,
 "nbformat_minor": 2
}
