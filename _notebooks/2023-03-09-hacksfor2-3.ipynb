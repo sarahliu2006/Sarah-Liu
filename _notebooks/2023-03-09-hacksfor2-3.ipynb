{
 "cells": [
  {
   "cell_type": "code",
   "execution_count": 2,
   "metadata": {},
   "outputs": [],
   "source": [
    "'''Pandas is used to gather data sets through its DataFrames implementation'''\n",
    "import pandas as pd"
   ]
  },
  {
   "cell_type": "code",
   "execution_count": 3,
   "metadata": {},
   "outputs": [
    {
     "name": "stdout",
     "output_type": "stream",
     "text": [
      "        Make    Model  Engine Size\n",
      "0      Acura      ILX          2.0\n",
      "1       Audi       A4          2.0\n",
      "2        BMW       M5          4.4\n",
      "3   Cadillac      ATS          3.6\n",
      "4      Dodge     Dart          2.4\n",
      "5       Ford     Edge          2.0\n",
      "6      Honda    Civic          1.8\n",
      "7   Infiniti      Q70          5.6\n",
      "8       Jeep  Compass          2.0\n",
      "9        Kia      Rio          1.7\n",
      "10     Lexus     IS F          5.0\n",
      "11     Mazda     CX-9          3.7\n",
      "12    Nissan   Altima          3.5\n",
      "13   Porsche  911 GT3          3.8\n",
      "14    Toyota  Corolla          1.8\n",
      "15     Volvo      S80          3.2\n"
     ]
    }
   ],
   "source": [
    "# reads the JSON file and converts it to a Pandas DataFrame\n",
    "df = pd.read_json('files/co2emission.json')\n",
    "\n",
    "print(df)\n",
    "# What part of the data set needs to be cleaned?\n",
    "# From PBL learning, what is a good time to clean data?  Hint, remember Garbage in, Garbage out?"
   ]
  },
  {
   "cell_type": "code",
   "execution_count": 4,
   "metadata": {},
   "outputs": [
    {
     "name": "stdout",
     "output_type": "stream",
     "text": [
      "        Make\n",
      "0      Acura\n",
      "1       Audi\n",
      "2        BMW\n",
      "3   Cadillac\n",
      "4      Dodge\n",
      "5       Ford\n",
      "6      Honda\n",
      "7   Infiniti\n",
      "8       Jeep\n",
      "9        Kia\n",
      "10     Lexus\n",
      "11     Mazda\n",
      "12    Nissan\n",
      "13   Porsche\n",
      "14    Toyota\n",
      "15     Volvo\n",
      "\n",
      "    Make   Model\n",
      "   Acura     ILX\n",
      "    Audi      A4\n",
      "     BMW      M5\n",
      "Cadillac     ATS\n",
      "   Dodge    Dart\n",
      "    Ford    Edge\n",
      "   Honda   Civic\n",
      "Infiniti     Q70\n",
      "    Jeep Compass\n",
      "     Kia     Rio\n",
      "   Lexus    IS F\n",
      "   Mazda    CX-9\n",
      "  Nissan  Altima\n",
      " Porsche 911 GT3\n",
      "  Toyota Corolla\n",
      "   Volvo     S80\n"
     ]
    }
   ],
   "source": [
    "#print the values in the points column with column header\n",
    "print(df[['Make']])\n",
    "\n",
    "print()\n",
    "\n",
    "#try two columns and remove the index from print statement\n",
    "print(df[['Make','Model']].to_string(index=False))"
   ]
  },
  {
   "cell_type": "code",
   "execution_count": 5,
   "metadata": {},
   "outputs": [
    {
     "name": "stdout",
     "output_type": "stream",
     "text": [
      "        Make    Model  Engine Size\n",
      "9        Kia      Rio          1.7\n",
      "6      Honda    Civic          1.8\n",
      "14    Toyota  Corolla          1.8\n",
      "0      Acura      ILX          2.0\n",
      "1       Audi       A4          2.0\n",
      "5       Ford     Edge          2.0\n",
      "8       Jeep  Compass          2.0\n",
      "4      Dodge     Dart          2.4\n",
      "15     Volvo      S80          3.2\n",
      "12    Nissan   Altima          3.5\n",
      "3   Cadillac      ATS          3.6\n",
      "11     Mazda     CX-9          3.7\n",
      "13   Porsche  911 GT3          3.8\n",
      "2        BMW       M5          4.4\n",
      "10     Lexus     IS F          5.0\n",
      "7   Infiniti      Q70          5.6\n",
      "\n",
      "        Make    Model  Engine Size\n",
      "7   Infiniti      Q70          5.6\n",
      "10     Lexus     IS F          5.0\n",
      "2        BMW       M5          4.4\n",
      "13   Porsche  911 GT3          3.8\n",
      "11     Mazda     CX-9          3.7\n",
      "3   Cadillac      ATS          3.6\n",
      "12    Nissan   Altima          3.5\n",
      "15     Volvo      S80          3.2\n",
      "4      Dodge     Dart          2.4\n",
      "0      Acura      ILX          2.0\n",
      "1       Audi       A4          2.0\n",
      "5       Ford     Edge          2.0\n",
      "8       Jeep  Compass          2.0\n",
      "6      Honda    Civic          1.8\n",
      "14    Toyota  Corolla          1.8\n",
      "9        Kia      Rio          1.7\n"
     ]
    }
   ],
   "source": [
    "#sort values\n",
    "print(df.sort_values(by=['Engine Size']))\n",
    "\n",
    "print()\n",
    "\n",
    "#sort the values in reverse order\n",
    "print(df.sort_values(by=['Engine Size'], ascending=False))"
   ]
  },
  {
   "cell_type": "code",
   "execution_count": null,
   "metadata": {},
   "outputs": [],
   "source": []
  }
 ],
 "metadata": {
  "kernelspec": {
   "display_name": "base",
   "language": "python",
   "name": "python3"
  },
  "language_info": {
   "codemirror_mode": {
    "name": "ipython",
    "version": 3
   },
   "file_extension": ".py",
   "mimetype": "text/x-python",
   "name": "python",
   "nbconvert_exporter": "python",
   "pygments_lexer": "ipython3",
   "version": "3.9.12"
  },
  "orig_nbformat": 4
 },
 "nbformat": 4,
 "nbformat_minor": 2
}
