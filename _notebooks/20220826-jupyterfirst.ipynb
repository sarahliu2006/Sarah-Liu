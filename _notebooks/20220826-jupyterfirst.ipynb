# Sarah's Notebook Blog Post
> Python code

- toc: true 
- badges: true
- comments: true
- categories: [jupyter]

