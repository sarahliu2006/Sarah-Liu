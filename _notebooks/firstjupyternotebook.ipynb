{
 "cells": [
  {
   "cell_type": "markdown",
   "metadata": {},
   "source": [
    "# Sarah Liu's Notebook\n",
    " toc: false\n",
    " layout: post\n",
    " title: my markdown post\n",
    " description: this is my first markdown post\n",
    " author: sarah liu\n",
    "\n",
    "# First Markdown Post\n",
    "\n",
    "## Font tips\n",
    "- **bold**\n",
    "- *italics*\n",
    "- 'code font text'\n",
    "\n",
    "### Get to know me\n",
    "1. name: sarah liu\n",
    "2. zodiac sign: capricorn\n",
    "3. favorite hobbies: playing flute, **ROBOTICS**, baking\n",
    "4. favorite animal: capybara\n",
    "5. goal for csp: get good grades, learn code, *enjoy* the class\n",
    "\n",
    "\n"
   ]
  },
  {
   "cell_type": "code",
   "execution_count": 1,
   "metadata": {},
   "outputs": [
    {
     "name": "stdout",
     "output_type": "stream",
     "text": [
      "hello world\n",
      "goodbye world\n"
     ]
    }
   ],
   "source": [
    "print(\"hello world\")\n",
    "print(\"goodbye world\")"
   ]
  }
 ],
 "metadata": {
  "kernelspec": {
   "display_name": "Python 3.8.10 64-bit",
   "language": "python",
   "name": "python3"
  },
  "language_info": {
   "codemirror_mode": {
    "name": "ipython",
    "version": 3
   },
   "file_extension": ".py",
   "mimetype": "text/x-python",
   "name": "python",
   "nbconvert_exporter": "python",
   "pygments_lexer": "ipython3",
   "version": "3.8.10"
  },
  "orig_nbformat": 4,
  "vscode": {
   "interpreter": {
    "hash": "916dbcbb3f70747c44a77c7bcd40155683ae19c65e1c03b4aa3499c5328201f1"
   }
  }
 },
 "nbformat": 4,
 "nbformat_minor": 2
}
