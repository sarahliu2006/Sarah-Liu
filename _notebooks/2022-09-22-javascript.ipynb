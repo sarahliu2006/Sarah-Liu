{
 "cells": [
  {
   "cell_type": "markdown",
   "metadata": {},
   "source": [
    "# Javascript Kernel\n",
    "\n",
    "- title: Javascript Kernel\n",
    "- description: This is my Javascript Kernel\n",
    "- toc: true\n",
    "- permalink: /collegeboard/javascript\n",
    "- tags: true\n",
    "- categories: [jupyter,Week5]"
   ]
  },
  {
   "cell_type": "code",
   "execution_count": 1,
   "metadata": {},
   "outputs": [
    {
     "name": "stdout",
     "output_type": "stream",
     "text": [
      "Hello, World!\n"
     ]
    }
   ],
   "source": [
    "console.log(\"Hello, World!\");"
   ]
  },
  {
   "cell_type": "code",
   "execution_count": 2,
   "metadata": {},
   "outputs": [
    {
     "name": "stdout",
     "output_type": "stream",
     "text": [
      "Hello, World!\n"
     ]
    }
   ],
   "source": [
    "var msg = \"Hello, World!\";\n",
    "console.log(msg);"
   ]
  },
  {
   "cell_type": "code",
   "execution_count": 3,
   "metadata": {},
   "outputs": [
    {
     "name": "stdout",
     "output_type": "stream",
     "text": [
      "Hello, World!\n"
     ]
    }
   ],
   "source": [
    "function logIt(output) {\n",
    "    console.log(output);\n",
    "}\n",
    "logIt(msg);"
   ]
  },
  {
   "cell_type": "code",
   "execution_count": 4,
   "metadata": {},
   "outputs": [
    {
     "name": "stdout",
     "output_type": "stream",
     "text": [
      "Reuse of logIT\n",
      "Hello, Students!\n",
      "2022\n"
     ]
    }
   ],
   "source": [
    "console.log(\"Reuse of logIT\")\n",
    "logIt(\"Hello, Students!\");\n",
    "logIt(2022)"
   ]
  },
  {
   "cell_type": "code",
   "execution_count": 6,
   "metadata": {},
   "outputs": [
    {
     "name": "stdout",
     "output_type": "stream",
     "text": [
      "Looking at dynamic nature of types in JavaScript\n",
      "string ; hello\n",
      "number ; 2020\n",
      "object ; [ 1, 2, 3 ]\n"
     ]
    }
   ],
   "source": [
    "function logItType(output) {\n",
    "    console.log(typeof output, \";\", output);\n",
    "}\n",
    "console.log(\"Looking at dynamic nature of types in JavaScript\")\n",
    "logItType(\"hello\"); \n",
    "logItType(2020);    \n",
    "logItType([1, 2, 3]);"
   ]
  },
  {
   "cell_type": "code",
   "execution_count": 12,
   "metadata": {},
   "outputs": [
    {
     "name": "stdout",
     "output_type": "stream",
     "text": [
      "object ; Person {\n",
      "  name: 'Mr M',\n",
      "  ghID: 'jm1021',\n",
      "  classOf: 1977,\n",
      "  period: 3,\n",
      "  role: '' }\n",
      "string ; {\"name\":\"Mr M\",\"ghID\":\"jm1021\",\"classOf\":1977,\"period\":3,\"role\":\"\"}\n",
      "object ; Person {\n",
      "  name: 'Mr M',\n",
      "  ghID: 'jm1021',\n",
      "  classOf: 1977,\n",
      "  period: 3,\n",
      "  role: 'Teacher' }\n",
      "string ; {\"name\":\"Mr M\",\"ghID\":\"jm1021\",\"classOf\":1977,\"period\":3,\"role\":\"Teacher\"}\n"
     ]
    }
   ],
   "source": [
    "function Person(name, ghID, classOf, period) {\n",
    "    this.name = name;\n",
    "    this.ghID = ghID;\n",
    "    this.classOf = classOf;\n",
    "    this.period = period;\n",
    "    this.role = \"\";\n",
    "}\n",
    "\n",
    "Person.prototype.setRole = function(role) {\n",
    "    this.role = role;\n",
    "}\n",
    "\n",
    "Person.prototype.toJSON = function() {\n",
    "    const obj = {name: this.name, ghID: this.ghID, classOf: this.classOf, period: this.period, role: this.role};\n",
    "    const json = JSON.stringify(obj);\n",
    "    return json;\n",
    "}\n",
    "\n",
    "var teacher = new Person(\"Mr M\", \"jm1021\", 1977, 3);  \n",
    "logItType(teacher);  \n",
    "logItType(teacher.toJSON());  \n",
    "\n",
    "teacher.setRole(\"Teacher\");   \n",
    "logItType(teacher); \n",
    "logItType(teacher.toJSON());"
   ]
  },
  {
   "cell_type": "code",
   "execution_count": 13,
   "metadata": {},
   "outputs": [
    {
     "name": "stdout",
     "output_type": "stream",
     "text": [
      "object ; [ Person {\n",
      "    name: 'Mr M',\n",
      "    ghID: 'jm1021',\n",
      "    classOf: 1977,\n",
      "    period: 3,\n",
      "    role: 'Teacher' },\n",
      "  Person {\n",
      "    name: 'Sarah Liu',\n",
      "    ghID: 'sarah-liu',\n",
      "    classOf: 2024,\n",
      "    period: 3,\n",
      "    role: 'Student' },\n",
      "  Person {\n",
      "    name: 'Amay Advani',\n",
      "    ghID: 'amayadvani',\n",
      "    classOf: 2024,\n",
      "    period: 3,\n",
      "    role: 'Student' },\n",
      "  Person {\n",
      "    name: 'Emma Shen',\n",
      "    ghID: 'e-shen2022',\n",
      "    classOf: 2024,\n",
      "    period: 3,\n",
      "    role: 'Student' },\n",
      "  Person {\n",
      "    name: 'Vivian Ni',\n",
      "    ghID: 'vivianknee',\n",
      "    classOf: 2024,\n",
      "    period: 3,\n",
      "    role: 'Student' } ]\n",
      "string ; Mr M\n",
      "string ; {\"name\":\"Mr M\",\"ghID\":\"jm1021\",\"classOf\":1977,\"period\":3,\"role\":\"Teacher\"}\n",
      "object ; { name: 'Mr M',\n",
      "  ghID: 'jm1021',\n",
      "  classOf: 1977,\n",
      "  period: 3,\n",
      "  role: 'Teacher' }\n"
     ]
    }
   ],
   "source": [
    "var students = [ \n",
    "    new Person(\"Sarah Liu\", \"sarah-liu\", 2024, 3),\n",
    "    new Person(\"Amay Advani\", \"amayadvani\", 2024, 3),\n",
    "    new Person(\"Emma Shen\", \"e-shen2022\", 2024, 3),\n",
    "    new Person(\"Vivian Ni\", \"vivianknee\", 2024, 3),\n",
    "];\n",
    "\n",
    "function Classroom(teacher, students){ \n",
    "    teacher.setRole(\"Teacher\");\n",
    "    this.teacher = teacher;\n",
    "    this.classroom = [teacher];\n",
    "    this.students = students;\n",
    "    this.students.forEach(student => { student.setRole(\"Student\"); this.classroom.push(student); });\n",
    "    this.json = [];\n",
    "    this.classroom.forEach(person => this.json.push(person.toJSON()));\n",
    "}\n",
    "\n",
    "compsci = new Classroom(teacher, students);\n",
    "\n",
    "logItType(compsci.classroom);  \n",
    "logItType(compsci.classroom[0].name);  \n",
    "logItType(compsci.json[0]);  \n",
    "logItType(JSON.parse(compsci.json[0]));  "
   ]
  },
  {
   "cell_type": "code",
   "execution_count": 16,
   "metadata": {},
   "outputs": [
    {
     "data": {
      "text/html": [
       "<div style='display:inline-block;border: 2px solid grey;box-shadow: 0.8em 0.4em 0.4em grey;'><table><tr><th><mark>Name</mark></th><th><mark>GitHub ID</mark></th><th><mark>Class Of</mark></th><th><mark>Period</mark></th><th><mark>Role</mark></th></tr><tr><td>Mr M</td><td>jm1021</td><td>1977</td><td>3</td><td>Teacher</td><tr><tr><td>Sarah Liu</td><td>sarah-liu</td><td>2024</td><td>3</td><td>Student</td><tr><tr><td>Amay Advani</td><td>amayadvani</td><td>2024</td><td>3</td><td>Student</td><tr><tr><td>Emma Shen</td><td>e-shen2022</td><td>2024</td><td>3</td><td>Student</td><tr><tr><td>Vivian Ni</td><td>vivianknee</td><td>2024</td><td>3</td><td>Student</td><tr></table></div>"
      ]
     },
     "execution_count": 16,
     "metadata": {},
     "output_type": "execute_result"
    }
   ],
   "source": [
    "Classroom.prototype._toHtml = function() {\n",
    "    var style = (\n",
    "      \"display:inline-block;\" +\n",
    "      \"border: 2px solid grey;\" +\n",
    "      \"box-shadow: 0.8em 0.4em 0.4em grey;\"\n",
    "    );\n",
    "  \n",
    "    var body = \"\";\n",
    "    body += \"<tr>\";\n",
    "    body += \"<th><mark>\" + \"Name\" + \"</mark></th>\";\n",
    "    body += \"<th><mark>\" + \"GitHub ID\" + \"</mark></th>\";\n",
    "    body += \"<th><mark>\" + \"Class Of\" + \"</mark></th>\";\n",
    "    body += \"<th><mark>\" + \"Period\" + \"</mark></th>\";\n",
    "    body += \"<th><mark>\" + \"Role\" + \"</mark></th>\";\n",
    "    body += \"</tr>\";\n",
    "    for (var row of compsci.classroom) {\n",
    "      body += \"<tr>\";\n",
    "      body += \"<td>\" + row.name + \"</td>\";\n",
    "      body += \"<td>\" + row.ghID + \"</td>\";\n",
    "      body += \"<td>\" + row.classOf + \"</td>\";\n",
    "      body += \"<td>\" + row.period + \"</td>\";\n",
    "      body += \"<td>\" + row.role + \"</td>\";\n",
    "      body += \"<tr>\";\n",
    "    }\n",
    "  \n",
    "    return (\n",
    "      \"<div style='\" + style + \"'>\" +\n",
    "        \"<table>\" +\n",
    "          body +\n",
    "        \"</table>\" +\n",
    "      \"</div>\"\n",
    "    );\n",
    "  \n",
    "  };\n",
    "  \n",
    "  $$.html(compsci._toHtml());"
   ]
  }
 ],
 "metadata": {
  "kernelspec": {
   "display_name": "JavaScript (Node.js)",
   "language": "javascript",
   "name": "javascript"
  },
  "language_info": {
   "file_extension": ".js",
   "mimetype": "application/javascript",
   "name": "javascript",
   "version": "6.11.2"
  },
  "orig_nbformat": 4,
  "vscode": {
   "interpreter": {
    "hash": "916dbcbb3f70747c44a77c7bcd40155683ae19c65e1c03b4aa3499c5328201f1"
   }
  }
 },
 "nbformat": 4,
 "nbformat_minor": 2
}
