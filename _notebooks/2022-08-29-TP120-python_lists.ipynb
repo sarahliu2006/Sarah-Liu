{
 "cells": [
  {
   "cell_type": "markdown",
   "metadata": {},
   "source": [
    "# Lists, Dictionaries, Iteration\n",
    "\n",
    "- title: Lists, Dictionaries, Iteration\n",
    "- toc: true\n",
    "- permalink: /collegeboard/python_lists\n",
    "- tags: true\n",
    "- categories: [jupyter,Week2]"
   ]
  },
  {
   "cell_type": "code",
   "execution_count": 7,
   "metadata": {},
   "outputs": [
    {
     "name": "stdout",
     "output_type": "stream",
     "text": [
      "What is the variable name/key? value? type? primitive or collection, why?\n",
      "name Sarah Liu <class 'str'>\n",
      "\n",
      "What is the variable name/key? value? type? primitive or collection, why?\n",
      "age 16 <class 'int'>\n",
      "\n",
      "What is the variable name/key? value? type? primitive or collection, why?\n",
      "score 90.0 <class 'float'>\n",
      "\n",
      "What is variable name/key? value? type? primitive or collection?\n",
      "What is different about the list output?\n",
      "langs ['Python', 'JavaScript', 'Java', 'Bash'] <class 'list'> length 4\n",
      "- langs[0] Python <class 'str'>\n",
      "\n",
      "What is the variable name/key? value? type? primitive or collection, why?\n",
      "What is different about the dictionary output?\n",
      "person {'name': 'Sarah Liu', 'age': 16, 'score': 90.0, 'langs': ['Python', 'JavaScript', 'Java', 'Bash']} <class 'dict'> length 4\n",
      "- person[\"name\"] Sarah Liu <class 'str'>\n"
     ]
    }
   ],
   "source": [
    "print(\"What is the variable name/key?\", \"value?\", \"type?\", \"primitive or collection, why?\")\n",
    "name = \"Sarah Liu\"\n",
    "print(\"name\", name, type(name))\n",
    "print()\n",
    "\n",
    "print(\"What is the variable name/key?\", \"value?\", \"type?\", \"primitive or collection, why?\")\n",
    "age = 16\n",
    "print(\"age\", age, type(age))\n",
    "\n",
    "print()\n",
    "\n",
    "print(\"What is the variable name/key?\", \"value?\", \"type?\", \"primitive or collection, why?\")\n",
    "score = 90.0\n",
    "print(\"score\", score, type(score))\n",
    "\n",
    "print()\n",
    "\n",
    "print(\"What is variable name/key?\", \"value?\", \"type?\", \"primitive or collection?\")\n",
    "print(\"What is different about the list output?\")\n",
    "langs = [\"Python\", \"JavaScript\", \"Java\", \"Bash\"]\n",
    "print(\"langs\", langs, type(langs), \"length\", len(langs))\n",
    "print(\"- langs[0]\", langs[0], type(langs[0]))\n",
    "\n",
    "print()\n",
    "\n",
    "print(\"What is the variable name/key?\", \"value?\", \"type?\", \"primitive or collection, why?\")\n",
    "print(\"What is different about the dictionary output?\")\n",
    "person = {\n",
    "    \"name\": name,\n",
    "    \"age\": age,\n",
    "    \"score\": score,\n",
    "    \"langs\": langs\n",
    "}\n",
    "print(\"person\", person, type(person), \"length\", len(person))\n",
    "print('- person[\"name\"]', person[\"name\"], type(person[\"name\"]))\n"
   ]
  },
  {
   "cell_type": "code",
   "execution_count": 10,
   "metadata": {},
   "outputs": [
    {
     "name": "stdout",
     "output_type": "stream",
     "text": [
      "[{'FirstName': 'Sarah', 'LastName': 'Liu', 'DOB': 'January 12', 'Residence': 'San Diego', 'Favorite Artist': 'Kanye West', 'Favorite Color': 'Red'}, {'FirstName': 'Amay', 'LastName': 'Advani', 'DOB': 'June 10', 'Residence': 'San Diego', 'Favorite Artist': 'Kanye West', 'Favorite Color': 'Blue'}]\n"
     ]
    }
   ],
   "source": [
    "InfoDb = []\n",
    "\n",
    "InfoDb.append({\n",
    "    \"FirstName\": \"Sarah\",\n",
    "    \"LastName\": \"Liu\",\n",
    "    \"DOB\": \"January 12\",\n",
    "    \"Residence\": \"San Diego\",\n",
    "    \"Favorite Artist\": \"Kanye West\",\n",
    "    \"Favorite Color\": \"Red\", \n",
    "})\n",
    "\n",
    "InfoDb.append({\n",
    "    \"FirstName\": \"Amay\",\n",
    "    \"LastName\": \"Advani\",\n",
    "    \"DOB\": \"June 10\",\n",
    "    \"Residence\": \"San Diego\",\n",
    "    \"Favorite Artist\": \"Kanye West\",\n",
    "    \"Favorite Color\": \"Blue\",\n",
    "})\n",
    "\n",
    "print(InfoDb)"
   ]
  },
  {
   "cell_type": "code",
   "execution_count": 12,
   "metadata": {},
   "outputs": [
    {
     "name": "stdout",
     "output_type": "stream",
     "text": [
      "For loop output\n",
      "\n",
      "Sarah Liu\n",
      "\t Residence: San Diego\n",
      "\t Birth Day: January 12\n",
      "\t Favorite Artist: Kanye West\n",
      "\t Favortie Color: Red\n",
      "\n",
      "Amay Advani\n",
      "\t Residence: San Diego\n",
      "\t Birth Day: June 10\n",
      "\t Favorite Artist: Kanye West\n",
      "\t Favortie Color: Blue\n",
      "\n"
     ]
    }
   ],
   "source": [
    "\n",
    "def print_data(d_rec):\n",
    "    print(d_rec[\"FirstName\"], d_rec[\"LastName\"])  \n",
    "    print(\"\\t\", \"Residence:\", d_rec[\"Residence\"]) \n",
    "    print(\"\\t\", \"Birth Day:\", d_rec[\"DOB\"])\n",
    "    print(\"\\t\", \"Favorite Artist:\", d_rec[\"Favorite Artist\"])  \n",
    "    print(\"\\t\", \"Favortie Color:\", d_rec[\"Favorite Color\"])\n",
    "    print()\n",
    "\n",
    "\n",
    "def for_loop():\n",
    "    print(\"For loop output\\n\")\n",
    "    for record in InfoDb:\n",
    "        print_data(record)\n",
    "\n",
    "for_loop()"
   ]
  },
  {
   "cell_type": "code",
   "execution_count": 13,
   "metadata": {},
   "outputs": [
    {
     "name": "stdout",
     "output_type": "stream",
     "text": [
      "While loop output\n",
      "\n",
      "Sarah Liu\n",
      "\t Residence: San Diego\n",
      "\t Birth Day: January 12\n",
      "\t Favorite Artist: Kanye West\n",
      "\t Favortie Color: Red\n",
      "\n",
      "Amay Advani\n",
      "\t Residence: San Diego\n",
      "\t Birth Day: June 10\n",
      "\t Favorite Artist: Kanye West\n",
      "\t Favortie Color: Blue\n",
      "\n"
     ]
    }
   ],
   "source": [
    "\n",
    "def while_loop():\n",
    "    print(\"While loop output\\n\")\n",
    "    i = 0\n",
    "    while i < len(InfoDb):\n",
    "        record = InfoDb[i]\n",
    "        print_data(record)\n",
    "        i += 1\n",
    "    return\n",
    "\n",
    "while_loop()"
   ]
  },
  {
   "cell_type": "code",
   "execution_count": 14,
   "metadata": {},
   "outputs": [
    {
     "name": "stdout",
     "output_type": "stream",
     "text": [
      "Recursive loop output\n",
      "\n",
      "Sarah Liu\n",
      "\t Residence: San Diego\n",
      "\t Birth Day: January 12\n",
      "\t Favorite Artist: Kanye West\n",
      "\t Favortie Color: Red\n",
      "\n",
      "Amay Advani\n",
      "\t Residence: San Diego\n",
      "\t Birth Day: June 10\n",
      "\t Favorite Artist: Kanye West\n",
      "\t Favortie Color: Blue\n",
      "\n"
     ]
    }
   ],
   "source": [
    "\n",
    "def recursive_loop(i):\n",
    "    if i < len(InfoDb):\n",
    "        record = InfoDb[i]\n",
    "        print_data(record)\n",
    "        recursive_loop(i + 1)\n",
    "    return\n",
    "    \n",
    "print(\"Recursive loop output\\n\")\n",
    "recursive_loop(0)"
   ]
  },
  {
   "cell_type": "code",
   "execution_count": 5,
   "metadata": {},
   "outputs": [
    {
     "name": "stdout",
     "output_type": "stream",
     "text": [
      "Question: Area 51 is located in which US state? 1 for Nevada, 2 for California, 3 for Texas, 4 for Florida\n",
      "Correct Answer\n",
      "Question: What is the nickname of the US state of California? 1 for Tree State, 2 for Desert State, 3 for Golden State, 4 for Orange State\n",
      "Correct Answer\n",
      "Question: Who is depicted on the US hundred-dollar bill? 1 for George Washington, 2 for Benjamin Franklin, 3 for Andrew Jackson, 4 for Abraham Lincoln\n",
      "Correct Answer\n",
      "Question: Who is the author of Jurrasic Park? 1 for Michael Crichton, 2 for JK Rowling, 3 for Stephen King, 4 for William Shakespeare\n",
      "Correct Answer\n",
      "Question: What is the last letter of the Greek alphabet? 1 for Alpha, 2 for Beta, 3 for Delta, 4 for Omega\n",
      "Correct Answer\n",
      "Question: Who is the mascot for the fast-food chain, KFC? 1 for Colonel Sanders, 2 for McDonalds Clown, 3 for Jack Box, 4 for Wendy\n",
      "Correct Answer\n",
      "6 answers correct 100.0 %\n",
      "Your answers: {'Question One': None, 'Question Two': None, 'Question Three': None, 'Question Four': None, 'Question Five': None, 'Question Six': None}\n"
     ]
    }
   ],
   "source": [
    "import getpass, sys\n",
    "\n",
    "def question_and_answer(prompt,answer):\n",
    "    print(\"Question: \" + prompt)\n",
    "    msg = input()\n",
    "    if answer == msg.lower():\n",
    "        print(\"Correct Answer\")\n",
    "        global correct\n",
    "        correct += 1\n",
    "    else:\n",
    "        print(\"Incorrect answer\")\n",
    "\n",
    "questions = 6\n",
    "correct = 0\n",
    "\n",
    "Question1 = question_and_answer(\"Area 51 is located in which US state? 1 for Nevada, 2 for California, 3 for Texas, 4 for Florida\" , \"1\")\n",
    "Question2 = question_and_answer(\"What is the nickname of the US state of California? 1 for Tree State, 2 for Desert State, 3 for Golden State, 4 for Orange State\", \"3\")\n",
    "Question3 = question_and_answer(\"Who is depicted on the US hundred-dollar bill? 1 for George Washington, 2 for Benjamin Franklin, 3 for Andrew Jackson, 4 for Abraham Lincoln\", \"2\")\n",
    "Question4 = question_and_answer(\"Who is the author of Jurrasic Park? 1 for Michael Crichton, 2 for JK Rowling, 3 for Stephen King, 4 for William Shakespeare\", \"1\")\n",
    "Question5 = question_and_answer(\"What is the last letter of the Greek alphabet? 1 for Alpha, 2 for Beta, 3 for Delta, 4 for Omega\", \"4\")\n",
    "Question6 = question_and_answer(\"Who is the mascot for the fast-food chain, KFC? 1 for Colonel Sanders, 2 for McDonalds Clown, 3 for Jack Box, 4 for Wendy\", \"1\")\n",
    "\n",
    "print(correct, \"answers correct\", correct*100/questions,\"%\")\n",
    "\n",
    "Quiz = {\n",
    "    \"Question One\": Question1, \n",
    "    \"Question Two\": Question2,\n",
    "    \"Question Three\": Question3,\n",
    "    \"Question Four\": Question4,\n",
    "    \"Question Five\": Question5,\n",
    "    \"Question Six\": Question6,\n",
    "}\n",
    "\n",
    "print(\"Your answers:\",Quiz)\n"
   ]
  },
  {
   "cell_type": "code",
   "execution_count": 8,
   "metadata": {},
   "outputs": [
    {
     "name": "stdout",
     "output_type": "stream",
     "text": [
      "- alphabet[ 0 ] d <class 'str'>\n",
      "- alphabet[ 1 ] c <class 'str'>\n",
      "- alphabet[ 2 ] b <class 'str'>\n",
      "- alphabet[ 3 ] a <class 'str'>\n"
     ]
    }
   ],
   "source": [
    "alphabet = [\"a\",\"b\", \"c\", \"d\"]\n",
    "alphabetC = 0\n",
    "for x in reversed(alphabet):\n",
    "    if alphabetC-2<len(alphabet):\n",
    "        print(\"- alphabet[\",alphabetC,\"]\", x, type(alphabet[alphabetC]))\n",
    "        alphabetC += 1"
   ]
  }
 ],
 "metadata": {
  "kernelspec": {
   "display_name": "Python 3.8.10 64-bit",
   "language": "python",
   "name": "python3"
  },
  "language_info": {
   "codemirror_mode": {
    "name": "ipython",
    "version": 3
   },
   "file_extension": ".py",
   "mimetype": "text/x-python",
   "name": "python",
   "nbconvert_exporter": "python",
   "pygments_lexer": "ipython3",
   "version": "3.8.10"
  },
  "orig_nbformat": 4,
  "vscode": {
   "interpreter": {
    "hash": "916dbcbb3f70747c44a77c7bcd40155683ae19c65e1c03b4aa3499c5328201f1"
   }
  }
 },
 "nbformat": 4,
 "nbformat_minor": 2
}
