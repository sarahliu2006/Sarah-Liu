{
 "cells": [
  {
   "attachments": {},
   "cell_type": "markdown",
   "metadata": {},
   "source": [
    "#  Data Structures- Hashmaps, Sets, Hash Tables, Hashing and Collisions\n",
    "> Observing hashmaps with python dictionaries\n",
    "- toc: true\n",
    "- image: /images/python.png\n",
    "- categories: []\n",
    "- type: pbl\n",
    "- week: 28"
   ]
  },
  {
   "attachments": {},
   "cell_type": "markdown",
   "metadata": {},
   "source": [
    "## What is a Hashtable/Hashmap?\n",
    "\n",
    "A hashtable is a data structure that with a collection of key-value pairs, where each key maps to a value, and the keys must be unique and hashable.\n",
    "\n",
    "- In Python there is a built in hashtable known as a dictionary.\n",
    "\n",
    "The primary purpose of a hashtable is to provide efficient lookup, insertion, and deletion operations. When an element is to be inserted into the hashtable, a hash function is used to map the key to a specific index in the underlying array that is used to store the key-value pairs. The value is then stored at that index. When searching for a value, the hash function is used again to find the index where the value is stored.\n",
    "\n",
    "The key advantage of a hashtable over other data structures like arrays and linked lists is its average-case time complexity for lookup, insertion, and deletion operations.\n",
    "\n",
    "- The typical time complexity of a hashtable is O(1) \n"
   ]
  },
  {
   "attachments": {},
   "cell_type": "markdown",
   "metadata": {},
   "source": [
    "## What is Hashing and Collision?\n",
    "\n",
    "Hashing is the process of mapping a given key to a value in a hash table or hashmap, using a hash function. The hash function takes the key as input and produces a hash value or hash code, which is then used to determine the index in the underlying array where the value is stored. The purpose of hashing is to provide a quick and efficient way to access data, by eliminating the need to search through an entire data structure to find a value.\n",
    "\n",
    "However, it is possible for two different keys to map to the same hash value, resulting in a collision. When a collision occurs, there are different ways to resolve it, depending on the collision resolution strategy used.\n",
    "\n",
    "Python's dictionary implementation is optimized to handle collisions efficiently, and the performance of the dictionary is generally very good, even in the presence of collisions. However, if the number of collisions is very high, the performance of the dictionary can degrade, so it is important to choose a good hash function that minimizes collisions when designing a Python dictionary.\n",
    "\n",
    "## What is a Set?"
   ]
  },
  {
   "cell_type": "code",
   "execution_count": 1,
   "metadata": {},
   "outputs": [
    {
     "name": "stdout",
     "output_type": "stream",
     "text": [
      "{1, 2, 3}\n"
     ]
    }
   ],
   "source": [
    "# Creating a set using set() function\n",
    "my_set = set([1, 2, 3, 2, 1])\n",
    "print(my_set)  \n",
    "\n",
    "# What do you notice in the output?\n",
    "# That it only includes 3 numbers\n",
    "# It doesn't repeat any of the integers\n",
    "\n",
    "# Why do you think Sets are in the same tech talk as Hashmaps/Hashtables?\n",
    "# Hashmaps and hastables can have duplicated values\n",
    "#"
   ]
  },
  {
   "cell_type": "code",
   "execution_count": 2,
   "metadata": {},
   "outputs": [
    {
     "name": "stdout",
     "output_type": "stream",
     "text": [
      "{'title': 'Lover', 'artist': 'Taylor Swift', 'year': 2019, 'genre': ['Pop', 'Synth-pop'], 'tracks': {1: 'I Forgot That You Existed', 2: 'Cruel Summer', 3: 'Lover', 4: 'The Man', 5: 'The Archer', 6: 'I Think He Knows', 7: 'Miss Americana & The Heartbreak Prince', 8: 'Paper Rings', 9: 'Cornelia Street', 10: 'Death By A Thousand Cuts', 11: 'London Boy', 12: \"Soon You'll Get Better (feat. Dixie Chicks)\", 13: 'False God', 14: 'You Need To Calm Down', 15: 'Afterglow', 16: 'Me! (feat. Brendon Urie of Panic! At The Disco)', 17: \"It's Nice To Have A Friend\", 18: 'Daylight'}}\n"
     ]
    }
   ],
   "source": [
    "# Creating a dictionary with information about the album \"Lover\"\n",
    "lover_album = {\n",
    "    \"title\": \"Lover\",\n",
    "    \"artist\": \"Taylor Swift\",\n",
    "    \"year\": 2019,\n",
    "    \"genre\": [\"Pop\", \"Synth-pop\"],\n",
    "    \"tracks\": {\n",
    "        1: \"I Forgot That You Existed\",\n",
    "        2: \"Cruel Summer\",\n",
    "        3: \"Lover\",\n",
    "        4: \"The Man\",\n",
    "        5: \"The Archer\",\n",
    "        6: \"I Think He Knows\",\n",
    "        7: \"Miss Americana & The Heartbreak Prince\",\n",
    "        8: \"Paper Rings\",\n",
    "        9: \"Cornelia Street\",\n",
    "        10: \"Death By A Thousand Cuts\",\n",
    "        11: \"London Boy\",\n",
    "        12: \"Soon You'll Get Better (feat. Dixie Chicks)\",\n",
    "        13: \"False God\",\n",
    "        14: \"You Need To Calm Down\",\n",
    "        15: \"Afterglow\",\n",
    "        16: \"Me! (feat. Brendon Urie of Panic! At The Disco)\",\n",
    "        17: \"It's Nice To Have A Friend\",\n",
    "        18: \"Daylight\"\n",
    "    }\n",
    "}\n",
    "\n",
    "# Printing the dictionary\n",
    "print(lover_album)\n",
    "\n",
    "# What data structures do you see?\n",
    "# Lists\n",
    "# Dictionary"
   ]
  },
  {
   "cell_type": "code",
   "execution_count": 3,
   "metadata": {},
   "outputs": [
    {
     "name": "stdout",
     "output_type": "stream",
     "text": [
      "{1: 'I Forgot That You Existed', 2: 'Cruel Summer', 3: 'Lover', 4: 'The Man', 5: 'The Archer', 6: 'I Think He Knows', 7: 'Miss Americana & The Heartbreak Prince', 8: 'Paper Rings', 9: 'Cornelia Street', 10: 'Death By A Thousand Cuts', 11: 'London Boy', 12: \"Soon You'll Get Better (feat. Dixie Chicks)\", 13: 'False God', 14: 'You Need To Calm Down', 15: 'Afterglow', 16: 'Me! (feat. Brendon Urie of Panic! At The Disco)', 17: \"It's Nice To Have A Friend\", 18: 'Daylight'}\n",
      "{1: 'I Forgot That You Existed', 2: 'Cruel Summer', 3: 'Lover', 4: 'The Man', 5: 'The Archer', 6: 'I Think He Knows', 7: 'Miss Americana & The Heartbreak Prince', 8: 'Paper Rings', 9: 'Cornelia Street', 10: 'Death By A Thousand Cuts', 11: 'London Boy', 12: \"Soon You'll Get Better (feat. Dixie Chicks)\", 13: 'False God', 14: 'You Need To Calm Down', 15: 'Afterglow', 16: 'Me! (feat. Brendon Urie of Panic! At The Disco)', 17: \"It's Nice To Have A Friend\", 18: 'Daylight'}\n"
     ]
    }
   ],
   "source": [
    "# Retrieve value from dictionary with key\n",
    "print(lover_album.get('tracks'))\n",
    "# or\n",
    "print(lover_album['tracks'])"
   ]
  },
  {
   "cell_type": "code",
   "execution_count": 4,
   "metadata": {},
   "outputs": [
    {
     "name": "stdout",
     "output_type": "stream",
     "text": [
      "The Man\n",
      "The Man\n"
     ]
    }
   ],
   "source": [
    "# Retrieve value from a dictionary inside a dictionary\n",
    "print(lover_album.get('tracks')[4])\n",
    "# or\n",
    "print(lover_album['tracks'][4])"
   ]
  },
  {
   "cell_type": "code",
   "execution_count": 7,
   "metadata": {},
   "outputs": [
    {
     "name": "stdout",
     "output_type": "stream",
     "text": [
      "{'title': 'Lover', 'artist': 'Taylor Swift', 'year': 2019, 'genre': ['Pop', 'Synth-pop'], 'tracks': {1: 'I Forgot That You Existed', 2: 'Cruel Summer', 3: 'Lover', 4: 'The Man', 5: 'The Archer', 6: 'I Think He Knows', 7: 'Miss Americana & The Heartbreak Prince', 8: 'Paper Rings', 9: 'Cornelia Street', 10: 'Death By A Thousand Cuts', 11: 'London Boy', 12: \"Soon You'll Get Better (feat. Dixie Chicks)\", 13: 'False God', 14: 'You Need To Calm Down', 15: 'Afterglow', 16: 'Me! (feat. Brendon Urie of Panic! At The Disco)', 17: \"It's Nice To Have A Friend\", 18: 'Daylight', 19: 'All Of The Girls You Loved Before'}, 'producer': {'Joel Little', 'Taylor Swift', 'Frank Dukes', 'Louis Bell', 'Jack Antonoff'}}\n"
     ]
    }
   ],
   "source": [
    "# adding a value with a new key\n",
    "lover_album[\"producer\"] = set(['Taylor Swift', 'Jack Antonoff', 'Joel Little', 'Louis Bell', 'Frank Dukes'])\n",
    "# Printing the dictionary\n",
    "print(lover_album)\n",
    "# What can you change to make sure there are no duplicate producers?\n",
    "# use set([])"
   ]
  },
  {
   "cell_type": "code",
   "execution_count": 6,
   "metadata": {},
   "outputs": [
    {
     "name": "stdout",
     "output_type": "stream",
     "text": [
      "{'title': 'Lover', 'artist': 'Taylor Swift', 'year': 2019, 'genre': ['Pop', 'Synth-pop'], 'tracks': {1: 'I Forgot That You Existed', 2: 'Cruel Summer', 3: 'Lover', 4: 'The Man', 5: 'The Archer', 6: 'I Think He Knows', 7: 'Miss Americana & The Heartbreak Prince', 8: 'Paper Rings', 9: 'Cornelia Street', 10: 'Death By A Thousand Cuts', 11: 'London Boy', 12: \"Soon You'll Get Better (feat. Dixie Chicks)\", 13: 'False God', 14: 'You Need To Calm Down', 15: 'Afterglow', 16: 'Me! (feat. Brendon Urie of Panic! At The Disco)', 17: \"It's Nice To Have A Friend\", 18: 'Daylight', 19: 'All Of The Girls You Loved Before'}, 'producer': ['Taylor Swift', 'Jack Antonoff', 'Joel Little', 'Louis Bell', 'Frank Dukes']}\n"
     ]
    }
   ],
   "source": [
    "# Adding a 19th song to an album 4 years later \n",
    "lover_album[\"tracks\"].update({19: \"All Of The Girls You Loved Before\"})\n",
    "# Printing the dictionary\n",
    "print(lover_album)\n",
    "# How would add an additional genre to the dictionary, like electropop? \n",
    "# lover_album[\"genre\"].update({\"Electropop\"})"
   ]
  },
  {
   "cell_type": "code",
   "execution_count": 8,
   "metadata": {},
   "outputs": [
    {
     "name": "stdout",
     "output_type": "stream",
     "text": [
      "title: Lover\n",
      "artist: Taylor Swift\n",
      "year: 2019\n",
      "genre: ['Pop', 'Synth-pop']\n",
      "tracks: {1: 'I Forgot That You Existed', 2: 'Cruel Summer', 3: 'Lover', 4: 'The Man', 5: 'The Archer', 6: 'I Think He Knows', 7: 'Miss Americana & The Heartbreak Prince', 8: 'Paper Rings', 9: 'Cornelia Street', 10: 'Death By A Thousand Cuts', 11: 'London Boy', 12: \"Soon You'll Get Better (feat. Dixie Chicks)\", 13: 'False God', 14: 'You Need To Calm Down', 15: 'Afterglow', 16: 'Me! (feat. Brendon Urie of Panic! At The Disco)', 17: \"It's Nice To Have A Friend\", 18: 'Daylight', 19: 'All Of The Girls You Loved Before'}\n",
      "producer: {'Joel Little', 'Taylor Swift', 'Frank Dukes', 'Louis Bell', 'Jack Antonoff'}\n"
     ]
    }
   ],
   "source": [
    "for k,v in lover_album.items(): # iterate using a for loop for key and value\n",
    "    print(str(k) + \": \" + str(v))\n",
    "\n",
    "# Write your own code to print tracks in readable format\n",
    "#"
   ]
  },
  {
   "cell_type": "code",
   "execution_count": 9,
   "metadata": {},
   "outputs": [
    {
     "name": "stdout",
     "output_type": "stream",
     "text": [
      "['Pop', 'Synth-pop']\n"
     ]
    }
   ],
   "source": [
    "def search():\n",
    "    search = input(\"What would you like to know about the album?\")\n",
    "    if lover_album.get(search.lower()) == None:\n",
    "        print(\"Invalid Search\")\n",
    "    else:\n",
    "        print(lover_album.get(search.lower()))\n",
    "\n",
    "search()\n",
    "\n",
    "# This is a very basic code segment, how can you improve upon this code?\n",
    "# "
   ]
  },
  {
   "cell_type": "code",
   "execution_count": 11,
   "metadata": {},
   "outputs": [
    {
     "name": "stdout",
     "output_type": "stream",
     "text": [
      "{'title': 'Astroworld', 'artist': 'Travis Scott', 'year': 2018, 'genre': ['Hip Hop', 'Rap'], 'tracks': {1: 'STARGAZING', 2: 'CAROUSEL', 3: 'SICKO MODE', 4: 'RIP CREW', 5: 'STOP TRYING TO BE GOD', 6: 'NO BYSTANDERS', 7: 'SKELETONS', 8: 'WAKE UP', 9: '5% TINT', 10: 'NC-17', 11: 'ASTROTHUNDER', 12: 'YOSEMITE', 13: \"CAN'T SAY\", 14: 'WHO? WHAT!', 15: 'BUTTERFLY EFFECT', 16: 'HOUSTONFORNICATION', 17: 'COFFEE BEAN'}}\n"
     ]
    }
   ],
   "source": [
    "# Creating a dictionary with information about the album \"Astroworld\"\n",
    "astroworld_album = {\n",
    "    \"title\": \"Astroworld\",\n",
    "    \"artist\": \"Travis Scott\",\n",
    "    \"year\": 2018,\n",
    "    \"genre\": [\"Hip Hop\", \"Rap\"],\n",
    "    \"tracks\": {\n",
    "        1: \"STARGAZING\",\n",
    "        2: \"CAROUSEL\",\n",
    "        3: \"SICKO MODE\", \n",
    "        4: \"RIP CREW\",\n",
    "        5: \"STOP TRYING TO BE GOD\",\n",
    "        6: \"NO BYSTANDERS\",\n",
    "        7: \"SKELETONS\", \n",
    "        8: \"WAKE UP\",\n",
    "        9: \"5% TINT\",\n",
    "        10: \"NC-17\",\n",
    "        11: \"ASTROTHUNDER\",\n",
    "        12: \"YOSEMITE\",\n",
    "        13: \"CAN'T SAY\",\n",
    "        14: \"WHO? WHAT!\",\n",
    "        15: \"BUTTERFLY EFFECT\",\n",
    "        16: \"HOUSTONFORNICATION\",\n",
    "        17: \"COFFEE BEAN\"\n",
    "\n",
    "    }\n",
    "}\n",
    "\n",
    "# Printing the dictionary\n",
    "print(astroworld_album)"
   ]
  },
  {
   "attachments": {},
   "cell_type": "markdown",
   "metadata": {},
   "source": [
    "<img src= \"https://github.com/sarahliu2006/Sarah-Liu/blob/4cc88a156101d404dc90787a079e55a112cce4bc/_notebooks/images/proandcon.PNG?raw=true\">\n"
   ]
  },
  {
   "attachments": {},
   "cell_type": "markdown",
   "metadata": {},
   "source": [
    "\n",
    "<img src= \"https://github.com/sarahliu2006/Sarah-Liu/blob/4cc88a156101d404dc90787a079e55a112cce4bc/_notebooks/images/dictionaryvslist.PNG?raw=true\">"
   ]
  }
 ],
 "metadata": {
  "kernelspec": {
   "display_name": "base",
   "language": "python",
   "name": "python3"
  },
  "language_info": {
   "codemirror_mode": {
    "name": "ipython",
    "version": 3
   },
   "file_extension": ".py",
   "mimetype": "text/x-python",
   "name": "python",
   "nbconvert_exporter": "python",
   "pygments_lexer": "ipython3",
   "version": "3.9.12"
  },
  "orig_nbformat": 4,
  "vscode": {
   "interpreter": {
    "hash": "71a436729383fc1ae99c49bcddec36dec13c39fd87712dea637f46ad3a153ab8"
   }
  }
 },
 "nbformat": 4,
 "nbformat_minor": 2
}
