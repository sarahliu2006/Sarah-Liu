{
 "cells": [
  {
   "attachments": {},
   "cell_type": "markdown",
   "metadata": {},
   "source": [
    "# Unit 3 Sections 17 and 18 Lesson\n",
    "> Algorithmic Efficiency and Undecidable Problems\n",
    "\n",
    "- title: Unit 3 Sections 17-18\n",
    "- toc: true\n",
    "- badges: false\n",
    "- categories: [lessons]\n",
    "- permalink: /lesson"
   ]
  },
  {
   "attachments": {},
   "cell_type": "markdown",
   "metadata": {},
   "source": [
    "## 3.17: Algorithm Efficiency\n",
    "Purpose:\n",
    "\n",
    "The purpose of this lesson is to help students understand how to make an efficient program and optimize it and understand its importance to the CSP curriculum.\n",
    "\n",
    "### What is Algorithmic Efficiency?\n",
    "- The ability of an algorithm to solve a problem in an efficient way\n",
    " - An efficient algorithm solves a problem quickly and with a minimum amount of resources, such as time and memory.\n",
    "- How do we determine if an algorithm is efficient or not?\n",
    " - One way we can do this is by determining the time complexity of the algorithm.\n",
    " - Another way is through space complexity. \n"
   ]
  },
  {
   "attachments": {},
   "cell_type": "markdown",
   "metadata": {},
   "source": [
    "## Traveling Merchant Problem Hacks:\n",
    "What did you and your team discuss? (record below)\n",
    "\n",
    "\n",
    "- An Heuristic solution is an approach to a problem that produces a solution that isn't necessarily optimal but can be used when normal methods take forever \n",
    "\n",
    "Describe the method used to solve the traveling merchant problem. (record below)\n",
    "- Guess and Check\n",
    "    - Find the longest and shortest path, then solve\n",
    "    - Find neighboring cities\n"
   ]
  },
  {
   "attachments": {},
   "cell_type": "markdown",
   "metadata": {},
   "source": [
    "## 3.18: Undecidable Problems\n",
    "Purpose:\n",
    "\n",
    "The purpose of this lesson is to introduce students to the concept of undecidable problems in computer science and to explain why these problems are important.\n",
    "\n",
    "### Decision Problem\n",
    ">A decision problem is a problem in computer science and mathematics that can be solved by a yes-no answer, also known as a binary answer. In other words, a decision problem is a problem for which there are only two possible outputs: \"yes\" or \"no\".\n",
    "\n",
    "There are two types of decision problems that Collegeboard goes over:\n",
    "- Decidable Problems\n",
    "- Undecidable Problems\n",
    "\n",
    ">A decidable is a problem in computer science and mathematics for which an algorithm can be created that can always produce a correct answer or solution. In other words, a decidable problem is a problem for which there exists an algorithm that can be used to determine whether a given input is a valid solution or not.\n",
    "\n",
    ">An undecidable problem is a problem in computer science and mathematics for which it is impossible to create an algorithm that can always provide a correct answer or solution. This means that it is not possible for an algorithm to always determine whether a given input is a valid solution to an undecidable problem."
   ]
  },
  {
   "attachments": {},
   "cell_type": "markdown",
   "metadata": {},
   "source": [
    "## Decidable Problems\n",
    "A decidable problem is an algorithm that can always have an output of `yes` or `no` given any input. It is always correct."
   ]
  },
  {
   "attachments": {},
   "cell_type": "markdown",
   "metadata": {},
   "source": [
    "### Example of a Decidable Problem\n",
    "The procedure below tests to see if a number is divisible by 13. If it is, it returns `true`. If it isn't, it returns `false`."
   ]
  },
  {
   "cell_type": "code",
   "execution_count": 1,
   "metadata": {},
   "outputs": [
    {
     "name": "stdout",
     "output_type": "stream",
     "text": [
      "True\n",
      "False\n"
     ]
    }
   ],
   "source": [
    "def divideThirteen(number):\n",
    "    if number % 13 == 0:\n",
    "        return True\n",
    "    else:\n",
    "        return False\n",
    "\n",
    "print(divideThirteen(26))\n",
    "print(divideThirteen(30))"
   ]
  },
  {
   "attachments": {},
   "cell_type": "markdown",
   "metadata": {},
   "source": [
    "## Undecidable Problems"
   ]
  },
  {
   "attachments": {},
   "cell_type": "markdown",
   "metadata": {},
   "source": [
    "### An Example of a Forever Running Code\n",
    "The code keeps adding `1` to the variable `number` until `number` is no longer an integer(This is not the python data type \"integer\", it's the integer in number theory). However, there is no end to this code, making the computer run forever. There is no halt to the code."
   ]
  },
  {
   "cell_type": "code",
   "execution_count": null,
   "metadata": {},
   "outputs": [],
   "source": [
    "i = 0\n",
    "number = 1\n",
    "def integerTest(n):\n",
    "    # Testing if the number is an integer\n",
    "    if n%1 ==0:\n",
    "        return True\n",
    "    else:\n",
    "        return False\n",
    "# Using while loop to keep searching an a non-integer above 1. Note that the computer runs forever.\n",
    "while i == 0:\n",
    "    number += 1\n",
    "    if integerTest(number) == False:\n",
    "        i +=1\n",
    "        print(\"Done\")"
   ]
  },
  {
   "attachments": {},
   "cell_type": "markdown",
   "metadata": {},
   "source": [
    "### The Halting Problem\n",
    "The halting problem is an example of an undecidable problem. It states that it is not always possible to correctly determine whether a code halts or runs forever.\n",
    "> There is no way to write an algorithm to analyze and determine whether a body of code can run forever or not."
   ]
  },
  {
   "attachments": {},
   "cell_type": "markdown",
   "metadata": {},
   "source": [
    "### Halting Problem Example:\n",
    "- In order to understand this, suppose that an algorithm was able to analyze whether a code halts or not. Let's call this algorithm `HaltChecker`.\n",
    "- `HaltChecker` analyzes the program,`program P`, and its input,`input I`. If `program P` halts with `input I`, `HaltChecker` returns an output of \"halts\". If `program P` doesn't halt(runs forever) with `input I`, `HaltChecker` returns an output of \"never\". For example, in the code where it tests if variable **number**, the code runs forever, so `HaltChecker` returns an output of never.\n",
    "- Then, we add another algorithm called `Reverser` which reverses `HaltChecker`'s output. So, if \"never\" is the output of `HaltChecker`, then the output of `Reverser` is halt. It's also the same the other way around: if `HaltChecker` has an output of \"halts\", then `Reverser` has an output of never.\n",
    "- We combine these algorithms into one entire body of code.\n",
    "- **Since `Reverser` is the algorithm at the end, hence giving the ultimate output, notice how it prints \"never\" when in fact there is an end(As proved by `HaltChecker`), and how it also prints \"halts\" when there is in fact is no end to the code(Also proved by `HaltChecker`). As a result, `HaltChecker` is inaccurate and this is an undecidable problem.**\n"
   ]
  },
  {
   "attachments": {},
   "cell_type": "markdown",
   "metadata": {},
   "source": [
    "### FAQ\n",
    "- **Q**: If `Reverser` is causing the problem, why not remove it?\n",
    "- **A**: Removing `Reverser` will remove the problems, however, we are looking for ways which create the problem of not outputting a correct result. One example is enough to prove that it is an undecidable problem since it proves that the code is not completely accurate.\n",
    "\n",
    "### Extra Things to Notice\n",
    "- Note that while a computer may take a long time to run a section of code, it does not mean that the computer is going to run forever.\n",
    "- Humans are able to solve some undecidable problems. The entire Halting Problem example was to prove that computers cannot solve undecidable problems."
   ]
  },
  {
   "attachments": {},
   "cell_type": "markdown",
   "metadata": {},
   "source": [
    "## Hacks\n",
    "Come up with one situation in which a computer runs into an undecidable problem. Explain why it is considered an undecidable problem."
   ]
  },
  {
   "attachments": {},
   "cell_type": "markdown",
   "metadata": {},
   "source": [
    "Dividing by zero is one situation in which a computer runs into an undecidable problem because the output will always be undefined."
   ]
  },
  {
   "attachments": {},
   "cell_type": "markdown",
   "metadata": {},
   "source": [
    "## 3.17 Homework "
   ]
  },
  {
   "attachments": {},
   "cell_type": "markdown",
   "metadata": {},
   "source": [
    "Graph #1\n",
    "https://github.com/sarahliu2006/Sarah-Liu/blob/cd94712c83033c2aa6cf192f340db6e83d2db5fa/images/graph0.PNG"
   ]
  },
  {
   "attachments": {},
   "cell_type": "markdown",
   "metadata": {},
   "source": [
    "Graph #2\n",
    "https://github.com/sarahliu2006/Sarah-Liu/blob/cd94712c83033c2aa6cf192f340db6e83d2db5fa/images/graph1.PNG"
   ]
  },
  {
   "attachments": {},
   "cell_type": "markdown",
   "metadata": {},
   "source": [
    "The first graph appears to be more linear while the second graph resembles the graph of logn. The linear graph is always increasing, meaning that the bigger your number is, the longer it takes to identify your number. However, in the second graph, while the curve does increase, it increases slower than the linear one. This means that as the range of a list of numbers increases, the linear graph shows that time will increase more steeply than the graph of logn. Hence lists with more numbers will take less time for the logn graph vs the linear graph because the logn graph makes it so that time increases in very small increments. Therefore, second graph is more efficient. In addition, the points of the first graph are calculated using linear search which iterates through each number in the list one by one until it identifies the number. On the other hand, the second graph's points are calculated using binary search. Binary search cuts the list in half each time, repeating this process until your number is found. Therefore, binary search is much faster than linear search, hence the second graph is much more efficient."
   ]
  },
  {
   "cell_type": "code",
   "execution_count": 35,
   "metadata": {},
   "outputs": [
    {
     "name": "stdout",
     "output_type": "stream",
     "text": [
      "Found element after 1000 loops in 46 microseconds\n",
      "Your number was found at 999\n"
     ]
    }
   ],
   "source": [
    "import time\n",
    "\n",
    "def linear_search(lst, x):\n",
    "    start_time = time.perf_counter_ns() # records time (nanoseconds)\n",
    "    for i in range(len(lst)): # loops through the entire list \n",
    "\n",
    "        if lst[i] == x: # until the x value we are looking for is found\n",
    "            end_time = time.perf_counter_ns() # records time again\n",
    "            total_time = (end_time - start_time) // 1000 # subtracts last recorded time and first recorded time\n",
    "            print(\"Found element after {} loops in {} microseconds\".format(i+1, total_time)) # prints the results\n",
    "            return print(\"Your number was found at\", i)\n",
    "            \n",
    "    end_time = time.perf_counter_ns() # records the time again\n",
    "    total_time = (end_time - start_time) // 1000 # subtracts last recorded time and first recorded time\n",
    "    print(\"Element not found after {} loops in {} microseconds\".format(len(lst), total_time)) # prints the results\n",
    "    return \"Your number wasn't found :(\"\n",
    "\n",
    "\n",
    "lst = list(range(1, 10001)) # list with numbers 1-10000\n",
    "\n",
    "x = 1000 # replace with an integer between 1 and 10000 (I suggest big numbers like 500, 2000, so on)\n",
    "\n",
    "linear_search(lst, x) # runs procedure"
   ]
  },
  {
   "cell_type": "code",
   "execution_count": 58,
   "metadata": {},
   "outputs": [
    {
     "name": "stdout",
     "output_type": "stream",
     "text": [
      "Element found after 11 loops in 5 microseconds\n"
     ]
    },
    {
     "data": {
      "text/plain": [
       "8499"
      ]
     },
     "execution_count": 58,
     "metadata": {},
     "output_type": "execute_result"
    }
   ],
   "source": [
    "import time \n",
    "\n",
    "def binary_search(lt, x):\n",
    "    start_time = time.perf_counter_ns() # starts timer\n",
    "    low = 0 # sets the lower side \n",
    "    mid = 0 # sets mid value\n",
    "    high = len(lt) -1 # sets the higher side\n",
    "    num_loops = 0 # number of loops the search undergoes to find the x value\n",
    "\n",
    "    while low<=high: # Loop ran until mid is reached\n",
    "        num_loops += 1 # adds one loop each time process is repeated\n",
    "        mid = (low + high) // 2 # takes the lowest and highest possible numbers and divides by 2 and rounds to closest whole #\n",
    "\n",
    "        if lt[mid] == x:\n",
    "            end_time = time.perf_counter_ns() # records time\n",
    "            total_time = (end_time - start_time) // 1000 # time in microseconds\n",
    "            print(\"Element found after {} loops in {} microseconds\".format(num_loops, total_time)) # prints the results\n",
    "            return mid # returns the index value\n",
    "\n",
    "        elif lt[mid] > x: # if mid was higher than x value, then sets new highest value as mid -1 \n",
    "            high = mid -1 \n",
    "\n",
    "        elif lt[mid] < x:\n",
    "            low = mid + 1 # if mid was lower than x, sets the new low as mid + 1\n",
    "            \n",
    "    end_time = time.perf_counter_ns()\n",
    "    total_time = (end_time - start_time) // 1000 \n",
    "    print(\"Element not found after {} loops in {} microseconds\".format(num_loops, total_time)) # prints the results\n",
    "    return \"Your number wasn't found :(\"\n",
    "\n",
    "\n",
    "lt = list(range(1, 10001)) # list with numbers 1-10000\n",
    "\n",
    "x = 8500 # replace with an integer between 1 and 10000 (I suggest big numbers like 500, 2000, so on)\n",
    "\n",
    "binary_search(lt, x) # runs procedure"
   ]
  },
  {
   "attachments": {},
   "cell_type": "markdown",
   "metadata": {},
   "source": [
    "## 3.18 Homework:"
   ]
  },
  {
   "cell_type": "code",
   "execution_count": 2,
   "metadata": {},
   "outputs": [
    {
     "data": {
      "text/plain": [
       "True"
      ]
     },
     "execution_count": 2,
     "metadata": {},
     "output_type": "execute_result"
    }
   ],
   "source": [
    "def isPrime(x):\n",
    "    for i in (2, x-1): #each number until x\n",
    "        if x % i == 0: #tests to see if the remainder is 0\n",
    "            return False\n",
    "    return True\n",
    "\n",
    "isPrime(3793)"
   ]
  },
  {
   "cell_type": "code",
   "execution_count": 3,
   "metadata": {},
   "outputs": [
    {
     "ename": "KeyboardInterrupt",
     "evalue": "",
     "output_type": "error",
     "traceback": [
      "\u001b[0;31m---------------------------------------------------------------------------\u001b[0m",
      "\u001b[0;31mKeyboardInterrupt\u001b[0m                         Traceback (most recent call last)",
      "\u001b[1;32m/mnt/c/Users/Sarah Liu/vscode/Sarah-Liu/_notebooks/2022-12-14-lesson.ipynb Cell 21\u001b[0m in \u001b[0;36m<cell line: 5>\u001b[0;34m()\u001b[0m\n\u001b[1;32m      <a href='vscode-notebook-cell://wsl%2Bubuntu/mnt/c/Users/Sarah%20Liu/vscode/Sarah-Liu/_notebooks/2022-12-14-lesson.ipynb#X26sdnNjb2RlLXJlbW90ZQ%3D%3D?line=6'>7</a>\u001b[0m     y \u001b[39m=\u001b[39m x \u001b[39m-\u001b[39m random\u001b[39m.\u001b[39mrandint(\u001b[39m1\u001b[39m, \u001b[39m100\u001b[39m)\n\u001b[1;32m      <a href='vscode-notebook-cell://wsl%2Bubuntu/mnt/c/Users/Sarah%20Liu/vscode/Sarah-Liu/_notebooks/2022-12-14-lesson.ipynb#X26sdnNjb2RlLXJlbW90ZQ%3D%3D?line=7'>8</a>\u001b[0m \u001b[39melse\u001b[39;00m: \n\u001b[0;32m----> <a href='vscode-notebook-cell://wsl%2Bubuntu/mnt/c/Users/Sarah%20Liu/vscode/Sarah-Liu/_notebooks/2022-12-14-lesson.ipynb#X26sdnNjb2RlLXJlbW90ZQ%3D%3D?line=8'>9</a>\u001b[0m     y \u001b[39m=\u001b[39m x \u001b[39m+\u001b[39m random\u001b[39m.\u001b[39;49mrandint(\u001b[39m1\u001b[39;49m, \u001b[39m100\u001b[39;49m)\n",
      "File \u001b[0;32m/usr/lib/python3.8/random.py:248\u001b[0m, in \u001b[0;36mRandom.randint\u001b[0;34m(self, a, b)\u001b[0m\n\u001b[1;32m    244\u001b[0m \u001b[39mdef\u001b[39;00m \u001b[39mrandint\u001b[39m(\u001b[39mself\u001b[39m, a, b):\n\u001b[1;32m    245\u001b[0m     \u001b[39m\"\"\"Return random integer in range [a, b], including both end points.\u001b[39;00m\n\u001b[1;32m    246\u001b[0m \u001b[39m    \"\"\"\u001b[39;00m\n\u001b[0;32m--> 248\u001b[0m     \u001b[39mreturn\u001b[39;00m \u001b[39mself\u001b[39;49m\u001b[39m.\u001b[39;49mrandrange(a, b\u001b[39m+\u001b[39;49m\u001b[39m1\u001b[39;49m)\n",
      "File \u001b[0;32m/usr/lib/python3.8/random.py:224\u001b[0m, in \u001b[0;36mRandom.randrange\u001b[0;34m(self, start, stop, step, _int)\u001b[0m\n\u001b[1;32m    222\u001b[0m width \u001b[39m=\u001b[39m istop \u001b[39m-\u001b[39m istart\n\u001b[1;32m    223\u001b[0m \u001b[39mif\u001b[39;00m step \u001b[39m==\u001b[39m \u001b[39m1\u001b[39m \u001b[39mand\u001b[39;00m width \u001b[39m>\u001b[39m \u001b[39m0\u001b[39m:\n\u001b[0;32m--> 224\u001b[0m     \u001b[39mreturn\u001b[39;00m istart \u001b[39m+\u001b[39m \u001b[39mself\u001b[39;49m\u001b[39m.\u001b[39;49m_randbelow(width)\n\u001b[1;32m    225\u001b[0m \u001b[39mif\u001b[39;00m step \u001b[39m==\u001b[39m \u001b[39m1\u001b[39m:\n\u001b[1;32m    226\u001b[0m     \u001b[39mraise\u001b[39;00m \u001b[39mValueError\u001b[39;00m(\u001b[39m\"\u001b[39m\u001b[39mempty range for randrange() (\u001b[39m\u001b[39m%d\u001b[39;00m\u001b[39m, \u001b[39m\u001b[39m%d\u001b[39;00m\u001b[39m, \u001b[39m\u001b[39m%d\u001b[39;00m\u001b[39m)\u001b[39m\u001b[39m\"\u001b[39m \u001b[39m%\u001b[39m (istart, istop, width))\n",
      "\u001b[0;31mKeyboardInterrupt\u001b[0m: "
     ]
    }
   ],
   "source": [
    "import random\n",
    "x = 1\n",
    "y = x + random.randint(1, 100) #forces y to always be greater than x. aka y will never equal x\n",
    "\n",
    "while x != y: #since x and y will never be equal, the loop never ends.\n",
    "    if x < y:\n",
    "        y = x - random.randint(1, 100)\n",
    "    else: \n",
    "        y = x + random.randint(1, 100)"
   ]
  }
 ],
 "metadata": {
  "kernelspec": {
   "display_name": "Python 3",
   "language": "python",
   "name": "python3"
  },
  "language_info": {
   "codemirror_mode": {
    "name": "ipython",
    "version": 3
   },
   "file_extension": ".py",
   "mimetype": "text/x-python",
   "name": "python",
   "nbconvert_exporter": "python",
   "pygments_lexer": "ipython3",
   "version": "3.8.10 (default, Jun 22 2022, 20:18:18) \n[GCC 9.4.0]"
  },
  "orig_nbformat": 4,
  "vscode": {
   "interpreter": {
    "hash": "916dbcbb3f70747c44a77c7bcd40155683ae19c65e1c03b4aa3499c5328201f1"
   }
  }
 },
 "nbformat": 4,
 "nbformat_minor": 2
}
