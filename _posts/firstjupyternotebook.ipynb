{
 "cells": [
  {
   "cell_type": "markdown",
   "metadata": {},
   "source": [
    "# Sarah Liu's Notebook\n",
    " toc: false\n",
    " layout: post\n",
    " title: my markdown post\n",
    " description: this is my first markdown post\n",
    " author: sarah liu\n",
    "\n",
    "# First Markdown Post\n",
    "\n",
    "## Font tips\n",
    "- **bold**\n",
    "- *italics*\n",
    "- 'code font text'\n",
    "\n",
    "### Get to know me\n",
    "1. name: sarah liu\n",
    "2. zodiac sign: capricorn\n",
    "3. favorite hobbies: playing flute, **ROBOTICS**, baking\n",
    "4. favorite animal: capybara\n",
    "5. goal for csp: get good grades, learn code, *enjoy* the class\n",
    "\n",
    "\n"
   ]
  },
  {
   "cell_type": "code",
   "execution_count": 1,
   "metadata": {},
   "outputs": [
    {
     "name": "stdout",
     "output_type": "stream",
     "text": [
      "hello world\n",
      "goodbye world\n"
     ]
    }
   ],
   "source": [
    "print(\"hello world\")\n",
    "print(\"goodbye world\")"
   ]
  }
 ],
 "metadata": {
  "kernelspec": {
   "display_name": "Python 3.9.12 ('base')",
   "language": "python",
   "name": "python3"
  },
  "language_info": {
   "codemirror_mode": {
    "name": "ipython",
    "version": 3
   },
   "file_extension": ".py",
   "mimetype": "text/x-python",
   "name": "python",
   "nbconvert_exporter": "python",
   "pygments_lexer": "ipython3",
   "version": "3.9.12"
  },
  "orig_nbformat": 4,
  "vscode": {
   "interpreter": {
    "hash": "729815f3ad345f13be6d05ae94c7844a0be6a2b1837f269e354c3c3dabe208cc"
   }
  }
 },
 "nbformat": 4,
 "nbformat_minor": 2
}
